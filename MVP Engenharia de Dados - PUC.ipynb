{
 "cells": [
  {
   "cell_type": "markdown",
   "metadata": {
    "application/vnd.databricks.v1+cell": {
     "cellMetadata": {
      "byteLimit": 2048000,
      "rowLimit": 10000
     },
     "inputWidgets": {},
     "nuid": "a9259fac-010d-4e95-a125-a1a47ff2e1d7",
     "showTitle": false,
     "tableResultSettingsMap": {},
     "title": ""
    }
   },
   "source": [
    "# ESAVI: 2024\n",
    "\n",
    "\n",
    "Neste projeto vamos explorar os dados do ESAVI, que correspondem aos dados de Eventos Supostamente Atribuiveis a Vacinação.\n",
    "\n",
    "Virou uma triste rotina sermos bombardeados por falsas informações na internet. Grande parte dessas notícias se baseiam em teorias da conspiração onde há uma verdade supostamente escondida. Na saúde não é diferente, temos observado um panorama em que cresce o número de informações falsas sobre as vacinas circulando nas redes sociais. Ignorando que há sistemas de controle estabelecidos para a aprovação de uma vacina à população bem como de acompanhamento das reações adversas, o que torna a vacinação um processo bastante seguro e necessário à saúde humana.\n",
    "\n",
    "Este projeto tem por proposito analisar os dados públicos sobre as possíveis reações adversas fortalecendo o conhecimento sobre as vacinas. Reforçando (1) que não há dados escondidos sobre as vacinas e (2) que existe um monitoramento regular sobre possíveis reações adversas. Com isso espero reforçar que não há vacinas inseguras sendo disponibilizadas para a população.\n",
    "\n",
    "Os dados do ESAVI estão disponibilizados de forma pública em uma base de dados única. O dicionário dos dados pode ser encontrado no seguinte [link](https://s3.sa-east-1.amazonaws.com/ckan.saude.gov.br/ESAVI/DicionariodeDados.pdf).\n",
    "\n",
    "Vamos iniciar o projeto fazendo o upload dos dados via DBFS no databricks. Posteriormente vamos efetuar a modelagem desses dados transformando esses dados em tabelas distintas para facilitar a análise de dados, que será a última etapa do projeto."
   ]
  },
  {
   "cell_type": "markdown",
   "metadata": {
    "application/vnd.databricks.v1+cell": {
     "cellMetadata": {
      "byteLimit": 2048000,
      "rowLimit": 10000
     },
     "inputWidgets": {},
     "nuid": "e1fff320-deaf-4689-9e0e-84f8756e4c6a",
     "showTitle": false,
     "tableResultSettingsMap": {},
     "title": ""
    }
   },
   "source": [
    "## Imports"
   ]
  },
  {
   "cell_type": "code",
   "execution_count": 0,
   "metadata": {
    "application/vnd.databricks.v1+cell": {
     "cellMetadata": {
      "byteLimit": 2048000,
      "rowLimit": 10000
     },
     "inputWidgets": {},
     "nuid": "11ff3e7f-093d-4942-b38e-0fd7a74d1b4a",
     "showTitle": false,
     "tableResultSettingsMap": {},
     "title": ""
    }
   },
   "outputs": [
    {
     "output_type": "stream",
     "name": "stdout",
     "output_type": "stream",
     "text": [
      "Python interpreter will be restarted.\nPython interpreter will be restarted.\n"
     ]
    }
   ],
   "source": [
    "%pip install pydrive --quiet\n"
   ]
  },
  {
   "cell_type": "code",
   "execution_count": 0,
   "metadata": {
    "application/vnd.databricks.v1+cell": {
     "cellMetadata": {
      "byteLimit": 2048000,
      "rowLimit": 10000
     },
     "inputWidgets": {},
     "nuid": "fa58c3b4-dfe6-4570-8bb7-e3d03786dc69",
     "showTitle": false,
     "tableResultSettingsMap": {},
     "title": ""
    }
   },
   "outputs": [
    {
     "output_type": "stream",
     "name": "stdout",
     "output_type": "stream",
     "text": [
      "\u001B[33mWARNING: You are using pip version 21.2.4; however, version 25.0.1 is available.\r\nYou should consider upgrading via the '/local_disk0/.ephemeral_nfs/envs/pythonEnv-54a8a835-8e41-4ced-9b8d-210ad00da297/bin/python -m pip install --upgrade pip' command.\u001B[0m\r\n"
     ]
    }
   ],
   "source": [
    "!pip install pyspark --quiet"
   ]
  },
  {
   "cell_type": "code",
   "execution_count": 0,
   "metadata": {
    "application/vnd.databricks.v1+cell": {
     "cellMetadata": {
      "byteLimit": 2048000,
      "rowLimit": 10000
     },
     "inputWidgets": {},
     "nuid": "2bba39da-2783-45de-9a21-34099d930e95",
     "showTitle": false,
     "tableResultSettingsMap": {},
     "title": ""
    }
   },
   "outputs": [
    {
     "output_type": "stream",
     "name": "stdout",
     "output_type": "stream",
     "text": [
      "\u001B[33mWARNING: You are using pip version 21.2.4; however, version 25.0.1 is available.\r\nYou should consider upgrading via the '/local_disk0/.ephemeral_nfs/envs/pythonEnv-54a8a835-8e41-4ced-9b8d-210ad00da297/bin/python -m pip install --upgrade pip' command.\u001B[0m\r\n"
     ]
    }
   ],
   "source": [
    "!pip install requests --quiet\n"
   ]
  },
  {
   "cell_type": "code",
   "execution_count": 0,
   "metadata": {
    "application/vnd.databricks.v1+cell": {
     "cellMetadata": {
      "byteLimit": 2048000,
      "rowLimit": 10000
     },
     "inputWidgets": {},
     "nuid": "00fc381a-6364-4c4b-ba04-89bba0e59dae",
     "showTitle": false,
     "tableResultSettingsMap": {},
     "title": ""
    }
   },
   "outputs": [
    {
     "output_type": "stream",
     "name": "stdout",
     "output_type": "stream",
     "text": [
      "\rReading package lists... 0%\r\rReading package lists... 0%\r\rReading package lists... 0%\r\rReading package lists... 3%\r\rReading package lists... 3%\r\rReading package lists... 3%\r\rReading package lists... 3%\r\rReading package lists... 35%\r\rReading package lists... 35%\r\rReading package lists... 35%\r\rReading package lists... 35%\r\rReading package lists... 35%\r\rReading package lists... 49%\r\rReading package lists... 49%\r\rReading package lists... 62%\r\rReading package lists... 62%\r\rReading package lists... 67%\r\rReading package lists... 67%\r\rReading package lists... 67%\r\rReading package lists... 67%\r\rReading package lists... 67%\r\rReading package lists... 67%\r\rReading package lists... 67%\r\rReading package lists... 67%\r\rReading package lists... 79%\r\rReading package lists... 79%\r\rReading package lists... 79%\r\rReading package lists... 92%\r\rReading package lists... 92%\r\rReading package lists... 96%\r\rReading package lists... 96%\r\rReading package lists... 96%\r\rReading package lists... 96%\r\rReading package lists... 98%\r\rReading package lists... 98%\r\rReading package lists... 99%\r\rReading package lists... 99%\r\rReading package lists... Done\r\r\n\rBuilding dependency tree... 0%\r\rBuilding dependency tree... 0%\r\rBuilding dependency tree... 50%\r\rBuilding dependency tree... 50%\r\rBuilding dependency tree       \r\r\n\rReading state information... 0%\r\rReading state information... 0%\r\rReading state information... Done\r\r\ngraphviz is already the newest version (2.42.2-3build2).\r\n0 upgraded, 0 newly installed, 0 to remove and 24 not upgraded.\r\nCollecting graphviz\r\n  Using cached graphviz-0.20.3-py3-none-any.whl (47 kB)\r\nInstalling collected packages: graphviz\r\nSuccessfully installed graphviz-0.20.3\r\n\u001B[33mWARNING: You are using pip version 21.2.4; however, version 25.0.1 is available.\r\nYou should consider upgrading via the '/local_disk0/.ephemeral_nfs/envs/pythonEnv-54a8a835-8e41-4ced-9b8d-210ad00da297/bin/python -m pip install --upgrade pip' command.\u001B[0m\r\n"
     ]
    }
   ],
   "source": [
    "!apt-get install graphviz -y\n",
    "!pip install graphviz\n"
   ]
  },
  {
   "cell_type": "code",
   "execution_count": 0,
   "metadata": {
    "application/vnd.databricks.v1+cell": {
     "cellMetadata": {
      "byteLimit": 2048000,
      "rowLimit": 10000
     },
     "inputWidgets": {},
     "nuid": "8209d51b-df3a-44cc-93d2-339f8e6166c4",
     "showTitle": false,
     "tableResultSettingsMap": {},
     "title": ""
    }
   },
   "outputs": [
    {
     "output_type": "stream",
     "name": "stdout",
     "output_type": "stream",
     "text": [
      "Collecting pydot\r\n  Using cached pydot-3.0.4-py3-none-any.whl (35 kB)\r\nCollecting pyparsing>=3.0.9\r\n  Using cached pyparsing-3.2.3-py3-none-any.whl (111 kB)\r\nInstalling collected packages: pyparsing, pydot\r\n  Attempting uninstall: pyparsing\r\n    Found existing installation: pyparsing 3.0.4\r\n    Not uninstalling pyparsing at /databricks/python3/lib/python3.9/site-packages, outside environment /local_disk0/.ephemeral_nfs/envs/pythonEnv-54a8a835-8e41-4ced-9b8d-210ad00da297\r\n    Can't uninstall 'pyparsing'. No files were found to uninstall.\r\nSuccessfully installed pydot-3.0.4 pyparsing-3.2.3\r\n\u001B[33mWARNING: You are using pip version 21.2.4; however, version 25.0.1 is available.\r\nYou should consider upgrading via the '/local_disk0/.ephemeral_nfs/envs/pythonEnv-54a8a835-8e41-4ced-9b8d-210ad00da297/bin/python -m pip install --upgrade pip' command.\u001B[0m\r\n"
     ]
    }
   ],
   "source": [
    "!pip install pydot\n"
   ]
  },
  {
   "cell_type": "code",
   "execution_count": 0,
   "metadata": {
    "application/vnd.databricks.v1+cell": {
     "cellMetadata": {
      "byteLimit": 2048000,
      "rowLimit": 10000
     },
     "inputWidgets": {},
     "nuid": "3de22af6-d2d2-49a3-8c2b-249a54bfed8a",
     "showTitle": false,
     "tableResultSettingsMap": {},
     "title": ""
    }
   },
   "outputs": [
    {
     "output_type": "display_data",
     "data": {
      "application/vnd.databricks.v1+bamboolib_hint": "{\"pd.DataFrames\": [], \"version\": \"0.0.1\"}",
      "text/plain": []
     },
     "metadata": {},
     "output_type": "display_data"
    }
   ],
   "source": [
    "# imports necessarios\n",
    "import requests\n",
    "import pandas as pd\n",
    "from pyspark import SparkConf, SparkContext\n",
    "from pyspark.sql import SparkSession\n",
    "from pyspark.sql.functions import *\n",
    "from pyspark.sql.window import Window\n",
    "from pydrive.auth import GoogleAuth\n",
    "from pydrive.drive import GoogleDrive\n",
    "import unicodedata\n",
    "import re\n",
    "import pandas as pd\n",
    "import requests\n",
    "import zipfile\n",
    "import io\n",
    "import graphviz\n",
    "from graphviz import Digraph\n",
    "from IPython.display import Image, display\n",
    "from pyspark.sql.functions import col, to_date, year\n"
   ]
  },
  {
   "cell_type": "code",
   "execution_count": 0,
   "metadata": {
    "application/vnd.databricks.v1+cell": {
     "cellMetadata": {
      "byteLimit": 2048000,
      "rowLimit": 10000
     },
     "inputWidgets": {},
     "nuid": "1480ec5d-ae84-4db2-b69c-7314cf8f6aae",
     "showTitle": false,
     "tableResultSettingsMap": {},
     "title": ""
    }
   },
   "outputs": [],
   "source": [
    "#criando a sessao e o contexto que será usado\n",
    "spark = SparkSession.builder.master(\"local[*]\").getOrCreate()\n",
    "conf = SparkConf().set('spark.ui.port', '4050').setAppName(\"srag\").setMaster(\"local[*]\")\n",
    "sc = SparkContext.getOrCreate(conf=conf)"
   ]
  },
  {
   "cell_type": "code",
   "execution_count": 0,
   "metadata": {
    "application/vnd.databricks.v1+cell": {
     "cellMetadata": {
      "byteLimit": 2048000,
      "rowLimit": 10000
     },
     "inputWidgets": {},
     "nuid": "7e569b05-364c-4f9d-904f-8a67f854a27a",
     "showTitle": false,
     "tableResultSettingsMap": {},
     "title": ""
    }
   },
   "outputs": [],
   "source": [
    "# DEPRECADO por que fiquei com receio do professor não conseguir ler o arquivo.\n",
    "## Lê o arquivo CSV com Spark\n",
    "#df1 = spark.read.format(\"csv\") \\\n",
    "#    .option(\"header\", \"true\") \\\n",
    "#    .option(\"sep\", \"|\") \\\n",
    "#    .load(\"dbfs:/FileStore/shared_uploads/melo.katiaselene@gmail.com/esavi-1.csv\")\n",
    "\n",
    "## Converte para DataFrame do pandas\n",
    "#esavi_data = df1.toPandas()\n",
    "\n",
    "## Exibe as primeiras linhas\n",
    "#esavi_data.head()\n"
   ]
  },
  {
   "cell_type": "code",
   "execution_count": 0,
   "metadata": {
    "application/vnd.databricks.v1+cell": {
     "cellMetadata": {
      "byteLimit": 2048000,
      "rowLimit": 10000
     },
     "inputWidgets": {},
     "nuid": "01652754-f351-43df-8829-e197f864b75c",
     "showTitle": false,
     "tableResultSettingsMap": {},
     "title": ""
    }
   },
   "outputs": [],
   "source": [
    "\n",
    "# Função para normalizar e remover caracteres especiais\n",
    "def remover_caracteres_especiais(texto):\n",
    "    if isinstance(texto, str):\n",
    "        texto = unicodedata.normalize('NFKD', texto)\n",
    "        texto = texto.encode('ASCII', 'ignore').decode('utf-8')  # Remove acentos\n",
    "        texto = re.sub(r'[^\\w\\s]', '', texto)  # Remove caracteres especiais restantes\n",
    "    return texto\n"
   ]
  },
  {
   "cell_type": "code",
   "execution_count": 0,
   "metadata": {
    "application/vnd.databricks.v1+cell": {
     "cellMetadata": {
      "byteLimit": 2048000,
      "rowLimit": 10000
     },
     "inputWidgets": {},
     "nuid": "71baeec4-24e6-4cf7-a442-d3debe1aacbc",
     "showTitle": false,
     "tableResultSettingsMap": {},
     "title": ""
    }
   },
   "outputs": [
    {
     "output_type": "stream",
     "name": "stdout",
     "output_type": "stream",
     "text": [
      "Arquivos no ZIP: ['esavi.csv']\n                                      nu_notificacao    ds_sexo  \\\n0  000029813c6eaf176048023399b740b8a5085d737c2a04...  Masculino   \n1  00002e19248fa7b5b150687b0e0097ff78b4d78b360f02...   Feminino   \n2  000100a041871c0fc89e7f635a0cd5ac8b7d0d8d273d1c...   Feminino   \n3  00011568703295ff79fc780063fba2c2df4092789315fd...  Masculino   \n4  00015c8d041ffe81d2ea24696697e07af3d7652045a727...  Masculino   \n\n  st_comunidade_tradicional ds_not_mae_filho nu_mes_gestante  \\\n0                       Não              Não             NaN   \n1                       Não              Não               5   \n2                       Não              Não             NaN   \n3                       Não              Não             NaN   \n4                       Não              Não             NaN   \n\n       ds_versao_medra ds_mulher_amamentando ds_profissional_seguranca  \\\n0  Versão não definida                   NaN                       Não   \n1  Versão não definida                   Não                       Não   \n2  Versão não definida                   Não                       Não   \n3  Versão não definida                   NaN                       Não   \n4  Versão não definida                   NaN                       Não   \n\n        no_estado dt_recebimento_notificacao  ...  \\\n0    Minas Gerais                        NaN  ...   \n1  Espírito Santo                        NaN  ...   \n2            Pará                 25-04-2023  ...   \n3          Paraná                 08-04-2021  ...   \n4    Minas Gerais                        NaN  ...   \n\n                            dt_aplicacao_imuno hr_aplica_imuno  \\\n0  14-07-2021#02-10-2021#22-03-2022#25-08-2022             NaN   \n1                                   06-05-2021           10:00   \n2                                   11-04-2023             NaN   \n3                                   01-04-2021             NaN   \n4                        26-11-2021#26-07-2022             NaN   \n\n                    ds_nome_fabricante                     ds_relacao_imuno  \\\n0  PFIZER#PFIZER#PFIZER#PFIZER-BELGICA  Suspeito#Suspeito#Suspeito#Suspeito   \n1                              fiocruz                             Suspeito   \n2                             BAVARIAN                             Suspeito   \n3                             BUTANTAN                             Suspeito   \n4                PFIZER#PFIZER-BELGICA                    Suspeito#Suspeito   \n\n                  ds_lote_imuno                            ds_dose_imuno  \\\n0  FA9095#31045BD#FP7082#FT7280  1ª Dose#2ª Dose#Reforço#R2 - 2º Reforço   \n1                    213vcd035w                             D1 - 1ª Dose   \n2                      FD800068                             D1 - 1ª Dose   \n3                        210040                             D2 - 2ª Dose   \n4                   FM3809#7082                     2ª Dose#D3 - 3ª Dose   \n\n                                            ds_imuno     co_imuno  \\\n0  COVID-19 PFIZER - COMIRNATY#COVID-19 PFIZER - ...  87#87#87#87   \n1                 Covid-19-Covishield-Oxford/Fiocruz           85   \n2                     Vacina Varíola Bavarian Nordic          100   \n3                Covid-19-Coronavac-Sinovac/Butantan           86   \n4  COVID-19 PFIZER - COMIRNATY#Vacina Covid-19-RN...        87#87   \n\n  ds_medicamento ds_relacao_medicamento  \n0            NaN                    NaN  \n1            NaN                    NaN  \n2            NaN                    NaN  \n3            NaN                    NaN  \n4            NaN                    NaN  \n\n[5 rows x 73 columns]\n"
     ]
    }
   ],
   "source": [
    "\n",
    "\n",
    "# URL do ZIP no GitHub (exemplo público ou do seu repo)\n",
    "url = \"https://github.com/skmelo/MVP_Estrutura_de_Dados/raw/main/esavi.zip\"\n",
    "\n",
    "# Faz o download do ZIP\n",
    "response = requests.get(url)\n",
    "\n",
    "if response.status_code == 200:\n",
    "    with zipfile.ZipFile(io.BytesIO(response.content)) as z:\n",
    "        print(\"Arquivos no ZIP:\", z.namelist())  # Lista os arquivos\n",
    "\n",
    "        # Lê o CSV com codificação correta e separador \"|\"\n",
    "        with z.open(\"esavi.csv\") as f:\n",
    "            df = pd.read_csv(f, sep=\"|\", encoding=\"latin1\")\n",
    "            print(df.head())\n",
    "else:\n",
    "    print(\"Erro no download:\", response.status_code)\n",
    "\n"
   ]
  },
  {
   "cell_type": "code",
   "execution_count": 0,
   "metadata": {
    "application/vnd.databricks.v1+cell": {
     "cellMetadata": {
      "byteLimit": 2048000,
      "rowLimit": 10000
     },
     "inputWidgets": {},
     "nuid": "bf97cb70-50d0-435c-803c-8ed513a2ca3a",
     "showTitle": false,
     "tableResultSettingsMap": {},
     "title": ""
    }
   },
   "outputs": [
    {
     "output_type": "display_data",
     "data": {
      "text/html": [
       "<div>\n",
       "<style scoped>\n",
       "    .dataframe tbody tr th:only-of-type {\n",
       "        vertical-align: middle;\n",
       "    }\n",
       "\n",
       "    .dataframe tbody tr th {\n",
       "        vertical-align: top;\n",
       "    }\n",
       "\n",
       "    .dataframe thead th {\n",
       "        text-align: right;\n",
       "    }\n",
       "</style>\n",
       "<table border=\"1\" class=\"dataframe\">\n",
       "  <thead>\n",
       "    <tr style=\"text-align: right;\">\n",
       "      <th></th>\n",
       "      <th>nu_notificacao</th>\n",
       "      <th>ds_sexo</th>\n",
       "      <th>st_comunidade_tradicional</th>\n",
       "      <th>ds_not_mae_filho</th>\n",
       "      <th>nu_mes_gestante</th>\n",
       "      <th>ds_versao_medra</th>\n",
       "      <th>ds_mulher_amamentando</th>\n",
       "      <th>ds_profissional_seguranca</th>\n",
       "      <th>no_estado</th>\n",
       "      <th>dt_recebimento_notificacao</th>\n",
       "      <th>...</th>\n",
       "      <th>dt_aplicacao_imuno</th>\n",
       "      <th>hr_aplica_imuno</th>\n",
       "      <th>ds_nome_fabricante</th>\n",
       "      <th>ds_relacao_imuno</th>\n",
       "      <th>ds_lote_imuno</th>\n",
       "      <th>ds_dose_imuno</th>\n",
       "      <th>ds_imuno</th>\n",
       "      <th>co_imuno</th>\n",
       "      <th>ds_medicamento</th>\n",
       "      <th>ds_relacao_medicamento</th>\n",
       "    </tr>\n",
       "  </thead>\n",
       "  <tbody>\n",
       "    <tr>\n",
       "      <th>0</th>\n",
       "      <td>000029813c6eaf176048023399b740b8a5085d737c2a04...</td>\n",
       "      <td>Masculino</td>\n",
       "      <td>Não</td>\n",
       "      <td>Não</td>\n",
       "      <td>NaN</td>\n",
       "      <td>Versão não definida</td>\n",
       "      <td>NaN</td>\n",
       "      <td>Não</td>\n",
       "      <td>Minas Gerais</td>\n",
       "      <td>NaN</td>\n",
       "      <td>...</td>\n",
       "      <td>14-07-2021#02-10-2021#22-03-2022#25-08-2022</td>\n",
       "      <td>NaN</td>\n",
       "      <td>PFIZER#PFIZER#PFIZER#PFIZER-BELGICA</td>\n",
       "      <td>Suspeito#Suspeito#Suspeito#Suspeito</td>\n",
       "      <td>FA9095#31045BD#FP7082#FT7280</td>\n",
       "      <td>1ª Dose#2ª Dose#Reforço#R2 - 2º Reforço</td>\n",
       "      <td>COVID-19 PFIZER - COMIRNATY#COVID-19 PFIZER - ...</td>\n",
       "      <td>87#87#87#87</td>\n",
       "      <td>NaN</td>\n",
       "      <td>NaN</td>\n",
       "    </tr>\n",
       "    <tr>\n",
       "      <th>1</th>\n",
       "      <td>00002e19248fa7b5b150687b0e0097ff78b4d78b360f02...</td>\n",
       "      <td>Feminino</td>\n",
       "      <td>Não</td>\n",
       "      <td>Não</td>\n",
       "      <td>5</td>\n",
       "      <td>Versão não definida</td>\n",
       "      <td>Não</td>\n",
       "      <td>Não</td>\n",
       "      <td>Espírito Santo</td>\n",
       "      <td>NaN</td>\n",
       "      <td>...</td>\n",
       "      <td>06-05-2021</td>\n",
       "      <td>10:00</td>\n",
       "      <td>fiocruz</td>\n",
       "      <td>Suspeito</td>\n",
       "      <td>213vcd035w</td>\n",
       "      <td>D1 - 1ª Dose</td>\n",
       "      <td>Covid-19-Covishield-Oxford/Fiocruz</td>\n",
       "      <td>85</td>\n",
       "      <td>NaN</td>\n",
       "      <td>NaN</td>\n",
       "    </tr>\n",
       "    <tr>\n",
       "      <th>2</th>\n",
       "      <td>000100a041871c0fc89e7f635a0cd5ac8b7d0d8d273d1c...</td>\n",
       "      <td>Feminino</td>\n",
       "      <td>Não</td>\n",
       "      <td>Não</td>\n",
       "      <td>NaN</td>\n",
       "      <td>Versão não definida</td>\n",
       "      <td>Não</td>\n",
       "      <td>Não</td>\n",
       "      <td>Pará</td>\n",
       "      <td>25-04-2023</td>\n",
       "      <td>...</td>\n",
       "      <td>11-04-2023</td>\n",
       "      <td>NaN</td>\n",
       "      <td>BAVARIAN</td>\n",
       "      <td>Suspeito</td>\n",
       "      <td>FD800068</td>\n",
       "      <td>D1 - 1ª Dose</td>\n",
       "      <td>Vacina Varíola Bavarian Nordic</td>\n",
       "      <td>100</td>\n",
       "      <td>NaN</td>\n",
       "      <td>NaN</td>\n",
       "    </tr>\n",
       "    <tr>\n",
       "      <th>3</th>\n",
       "      <td>00011568703295ff79fc780063fba2c2df4092789315fd...</td>\n",
       "      <td>Masculino</td>\n",
       "      <td>Não</td>\n",
       "      <td>Não</td>\n",
       "      <td>NaN</td>\n",
       "      <td>Versão não definida</td>\n",
       "      <td>NaN</td>\n",
       "      <td>Não</td>\n",
       "      <td>Paraná</td>\n",
       "      <td>08-04-2021</td>\n",
       "      <td>...</td>\n",
       "      <td>01-04-2021</td>\n",
       "      <td>NaN</td>\n",
       "      <td>BUTANTAN</td>\n",
       "      <td>Suspeito</td>\n",
       "      <td>210040</td>\n",
       "      <td>D2 - 2ª Dose</td>\n",
       "      <td>Covid-19-Coronavac-Sinovac/Butantan</td>\n",
       "      <td>86</td>\n",
       "      <td>NaN</td>\n",
       "      <td>NaN</td>\n",
       "    </tr>\n",
       "    <tr>\n",
       "      <th>4</th>\n",
       "      <td>00015c8d041ffe81d2ea24696697e07af3d7652045a727...</td>\n",
       "      <td>Masculino</td>\n",
       "      <td>Não</td>\n",
       "      <td>Não</td>\n",
       "      <td>NaN</td>\n",
       "      <td>Versão não definida</td>\n",
       "      <td>NaN</td>\n",
       "      <td>Não</td>\n",
       "      <td>Minas Gerais</td>\n",
       "      <td>NaN</td>\n",
       "      <td>...</td>\n",
       "      <td>26-11-2021#26-07-2022</td>\n",
       "      <td>NaN</td>\n",
       "      <td>PFIZER#PFIZER-BELGICA</td>\n",
       "      <td>Suspeito#Suspeito</td>\n",
       "      <td>FM3809#7082</td>\n",
       "      <td>2ª Dose#D3 - 3ª Dose</td>\n",
       "      <td>COVID-19 PFIZER - COMIRNATY#Vacina Covid-19-RN...</td>\n",
       "      <td>87#87</td>\n",
       "      <td>NaN</td>\n",
       "      <td>NaN</td>\n",
       "    </tr>\n",
       "  </tbody>\n",
       "</table>\n",
       "<p>5 rows × 73 columns</p>\n",
       "</div>"
      ]
     },
     "metadata": {
      "application/vnd.databricks.v1+output": {
       "addedWidgets": {},
       "arguments": {},
       "data": "<div>\n<style scoped>\n    .dataframe tbody tr th:only-of-type {\n        vertical-align: middle;\n    }\n\n    .dataframe tbody tr th {\n        vertical-align: top;\n    }\n\n    .dataframe thead th {\n        text-align: right;\n    }\n</style>\n<table border=\"1\" class=\"dataframe\">\n  <thead>\n    <tr style=\"text-align: right;\">\n      <th></th>\n      <th>nu_notificacao</th>\n      <th>ds_sexo</th>\n      <th>st_comunidade_tradicional</th>\n      <th>ds_not_mae_filho</th>\n      <th>nu_mes_gestante</th>\n      <th>ds_versao_medra</th>\n      <th>ds_mulher_amamentando</th>\n      <th>ds_profissional_seguranca</th>\n      <th>no_estado</th>\n      <th>dt_recebimento_notificacao</th>\n      <th>...</th>\n      <th>dt_aplicacao_imuno</th>\n      <th>hr_aplica_imuno</th>\n      <th>ds_nome_fabricante</th>\n      <th>ds_relacao_imuno</th>\n      <th>ds_lote_imuno</th>\n      <th>ds_dose_imuno</th>\n      <th>ds_imuno</th>\n      <th>co_imuno</th>\n      <th>ds_medicamento</th>\n      <th>ds_relacao_medicamento</th>\n    </tr>\n  </thead>\n  <tbody>\n    <tr>\n      <th>0</th>\n      <td>000029813c6eaf176048023399b740b8a5085d737c2a04...</td>\n      <td>Masculino</td>\n      <td>Não</td>\n      <td>Não</td>\n      <td>NaN</td>\n      <td>Versão não definida</td>\n      <td>NaN</td>\n      <td>Não</td>\n      <td>Minas Gerais</td>\n      <td>NaN</td>\n      <td>...</td>\n      <td>14-07-2021#02-10-2021#22-03-2022#25-08-2022</td>\n      <td>NaN</td>\n      <td>PFIZER#PFIZER#PFIZER#PFIZER-BELGICA</td>\n      <td>Suspeito#Suspeito#Suspeito#Suspeito</td>\n      <td>FA9095#31045BD#FP7082#FT7280</td>\n      <td>1ª Dose#2ª Dose#Reforço#R2 - 2º Reforço</td>\n      <td>COVID-19 PFIZER - COMIRNATY#COVID-19 PFIZER - ...</td>\n      <td>87#87#87#87</td>\n      <td>NaN</td>\n      <td>NaN</td>\n    </tr>\n    <tr>\n      <th>1</th>\n      <td>00002e19248fa7b5b150687b0e0097ff78b4d78b360f02...</td>\n      <td>Feminino</td>\n      <td>Não</td>\n      <td>Não</td>\n      <td>5</td>\n      <td>Versão não definida</td>\n      <td>Não</td>\n      <td>Não</td>\n      <td>Espírito Santo</td>\n      <td>NaN</td>\n      <td>...</td>\n      <td>06-05-2021</td>\n      <td>10:00</td>\n      <td>fiocruz</td>\n      <td>Suspeito</td>\n      <td>213vcd035w</td>\n      <td>D1 - 1ª Dose</td>\n      <td>Covid-19-Covishield-Oxford/Fiocruz</td>\n      <td>85</td>\n      <td>NaN</td>\n      <td>NaN</td>\n    </tr>\n    <tr>\n      <th>2</th>\n      <td>000100a041871c0fc89e7f635a0cd5ac8b7d0d8d273d1c...</td>\n      <td>Feminino</td>\n      <td>Não</td>\n      <td>Não</td>\n      <td>NaN</td>\n      <td>Versão não definida</td>\n      <td>Não</td>\n      <td>Não</td>\n      <td>Pará</td>\n      <td>25-04-2023</td>\n      <td>...</td>\n      <td>11-04-2023</td>\n      <td>NaN</td>\n      <td>BAVARIAN</td>\n      <td>Suspeito</td>\n      <td>FD800068</td>\n      <td>D1 - 1ª Dose</td>\n      <td>Vacina Varíola Bavarian Nordic</td>\n      <td>100</td>\n      <td>NaN</td>\n      <td>NaN</td>\n    </tr>\n    <tr>\n      <th>3</th>\n      <td>00011568703295ff79fc780063fba2c2df4092789315fd...</td>\n      <td>Masculino</td>\n      <td>Não</td>\n      <td>Não</td>\n      <td>NaN</td>\n      <td>Versão não definida</td>\n      <td>NaN</td>\n      <td>Não</td>\n      <td>Paraná</td>\n      <td>08-04-2021</td>\n      <td>...</td>\n      <td>01-04-2021</td>\n      <td>NaN</td>\n      <td>BUTANTAN</td>\n      <td>Suspeito</td>\n      <td>210040</td>\n      <td>D2 - 2ª Dose</td>\n      <td>Covid-19-Coronavac-Sinovac/Butantan</td>\n      <td>86</td>\n      <td>NaN</td>\n      <td>NaN</td>\n    </tr>\n    <tr>\n      <th>4</th>\n      <td>00015c8d041ffe81d2ea24696697e07af3d7652045a727...</td>\n      <td>Masculino</td>\n      <td>Não</td>\n      <td>Não</td>\n      <td>NaN</td>\n      <td>Versão não definida</td>\n      <td>NaN</td>\n      <td>Não</td>\n      <td>Minas Gerais</td>\n      <td>NaN</td>\n      <td>...</td>\n      <td>26-11-2021#26-07-2022</td>\n      <td>NaN</td>\n      <td>PFIZER#PFIZER-BELGICA</td>\n      <td>Suspeito#Suspeito</td>\n      <td>FM3809#7082</td>\n      <td>2ª Dose#D3 - 3ª Dose</td>\n      <td>COVID-19 PFIZER - COMIRNATY#Vacina Covid-19-RN...</td>\n      <td>87#87</td>\n      <td>NaN</td>\n      <td>NaN</td>\n    </tr>\n  </tbody>\n</table>\n<p>5 rows × 73 columns</p>\n</div>",
       "datasetInfos": [],
       "metadata": {},
       "removedWidgets": [],
       "textData": null,
       "type": "htmlSandbox"
      }
     },
     "output_type": "display_data"
    }
   ],
   "source": [
    "df.head()"
   ]
  },
  {
   "cell_type": "code",
   "execution_count": 0,
   "metadata": {
    "application/vnd.databricks.v1+cell": {
     "cellMetadata": {
      "byteLimit": 2048000,
      "rowLimit": 10000
     },
     "inputWidgets": {},
     "nuid": "953e767b-389b-428d-a7c9-04dd00d13498",
     "showTitle": false,
     "tableResultSettingsMap": {},
     "title": ""
    }
   },
   "outputs": [
    {
     "output_type": "display_data",
     "data": {
      "text/html": [
       "<div>\n",
       "<style scoped>\n",
       "    .dataframe tbody tr th:only-of-type {\n",
       "        vertical-align: middle;\n",
       "    }\n",
       "\n",
       "    .dataframe tbody tr th {\n",
       "        vertical-align: top;\n",
       "    }\n",
       "\n",
       "    .dataframe thead th {\n",
       "        text-align: right;\n",
       "    }\n",
       "</style>\n",
       "<table border=\"1\" class=\"dataframe\">\n",
       "  <thead>\n",
       "    <tr style=\"text-align: right;\">\n",
       "      <th></th>\n",
       "      <th>nu_notificacao</th>\n",
       "      <th>ds_sexo</th>\n",
       "      <th>st_comunidade_tradicional</th>\n",
       "      <th>ds_not_mae_filho</th>\n",
       "      <th>nu_mes_gestante</th>\n",
       "      <th>ds_versao_medra</th>\n",
       "      <th>ds_mulher_amamentando</th>\n",
       "      <th>ds_profissional_seguranca</th>\n",
       "      <th>no_estado</th>\n",
       "      <th>dt_recebimento_notificacao</th>\n",
       "      <th>...</th>\n",
       "      <th>dt_aplicacao_imuno</th>\n",
       "      <th>hr_aplica_imuno</th>\n",
       "      <th>ds_nome_fabricante</th>\n",
       "      <th>ds_relacao_imuno</th>\n",
       "      <th>ds_lote_imuno</th>\n",
       "      <th>ds_dose_imuno</th>\n",
       "      <th>ds_imuno</th>\n",
       "      <th>co_imuno</th>\n",
       "      <th>ds_medicamento</th>\n",
       "      <th>ds_relacao_medicamento</th>\n",
       "    </tr>\n",
       "  </thead>\n",
       "  <tbody>\n",
       "    <tr>\n",
       "      <th>0</th>\n",
       "      <td>000029813c6eaf176048023399b740b8a5085d737c2a04...</td>\n",
       "      <td>Masculino</td>\n",
       "      <td>Nao</td>\n",
       "      <td>Nao</td>\n",
       "      <td>NaN</td>\n",
       "      <td>Versao nao definida</td>\n",
       "      <td>NaN</td>\n",
       "      <td>Nao</td>\n",
       "      <td>Minas Gerais</td>\n",
       "      <td>NaN</td>\n",
       "      <td>...</td>\n",
       "      <td>14072021021020212203202225082022</td>\n",
       "      <td>NaN</td>\n",
       "      <td>PFIZERPFIZERPFIZERPFIZERBELGICA</td>\n",
       "      <td>SuspeitoSuspeitoSuspeitoSuspeito</td>\n",
       "      <td>FA909531045BDFP7082FT7280</td>\n",
       "      <td>1a Dose2a DoseReforcoR2  2o Reforco</td>\n",
       "      <td>COVID19 PFIZER  COMIRNATYCOVID19 PFIZER  COMIR...</td>\n",
       "      <td>87878787</td>\n",
       "      <td>NaN</td>\n",
       "      <td>NaN</td>\n",
       "    </tr>\n",
       "    <tr>\n",
       "      <th>1</th>\n",
       "      <td>00002e19248fa7b5b150687b0e0097ff78b4d78b360f02...</td>\n",
       "      <td>Feminino</td>\n",
       "      <td>Nao</td>\n",
       "      <td>Nao</td>\n",
       "      <td>5</td>\n",
       "      <td>Versao nao definida</td>\n",
       "      <td>Nao</td>\n",
       "      <td>Nao</td>\n",
       "      <td>Espirito Santo</td>\n",
       "      <td>NaN</td>\n",
       "      <td>...</td>\n",
       "      <td>06052021</td>\n",
       "      <td>1000</td>\n",
       "      <td>fiocruz</td>\n",
       "      <td>Suspeito</td>\n",
       "      <td>213vcd035w</td>\n",
       "      <td>D1  1a Dose</td>\n",
       "      <td>Covid19CovishieldOxfordFiocruz</td>\n",
       "      <td>85</td>\n",
       "      <td>NaN</td>\n",
       "      <td>NaN</td>\n",
       "    </tr>\n",
       "    <tr>\n",
       "      <th>2</th>\n",
       "      <td>000100a041871c0fc89e7f635a0cd5ac8b7d0d8d273d1c...</td>\n",
       "      <td>Feminino</td>\n",
       "      <td>Nao</td>\n",
       "      <td>Nao</td>\n",
       "      <td>NaN</td>\n",
       "      <td>Versao nao definida</td>\n",
       "      <td>Nao</td>\n",
       "      <td>Nao</td>\n",
       "      <td>Para</td>\n",
       "      <td>25042023</td>\n",
       "      <td>...</td>\n",
       "      <td>11042023</td>\n",
       "      <td>NaN</td>\n",
       "      <td>BAVARIAN</td>\n",
       "      <td>Suspeito</td>\n",
       "      <td>FD800068</td>\n",
       "      <td>D1  1a Dose</td>\n",
       "      <td>Vacina Variola Bavarian Nordic</td>\n",
       "      <td>100</td>\n",
       "      <td>NaN</td>\n",
       "      <td>NaN</td>\n",
       "    </tr>\n",
       "    <tr>\n",
       "      <th>3</th>\n",
       "      <td>00011568703295ff79fc780063fba2c2df4092789315fd...</td>\n",
       "      <td>Masculino</td>\n",
       "      <td>Nao</td>\n",
       "      <td>Nao</td>\n",
       "      <td>NaN</td>\n",
       "      <td>Versao nao definida</td>\n",
       "      <td>NaN</td>\n",
       "      <td>Nao</td>\n",
       "      <td>Parana</td>\n",
       "      <td>08042021</td>\n",
       "      <td>...</td>\n",
       "      <td>01042021</td>\n",
       "      <td>NaN</td>\n",
       "      <td>BUTANTAN</td>\n",
       "      <td>Suspeito</td>\n",
       "      <td>210040</td>\n",
       "      <td>D2  2a Dose</td>\n",
       "      <td>Covid19CoronavacSinovacButantan</td>\n",
       "      <td>86</td>\n",
       "      <td>NaN</td>\n",
       "      <td>NaN</td>\n",
       "    </tr>\n",
       "    <tr>\n",
       "      <th>4</th>\n",
       "      <td>00015c8d041ffe81d2ea24696697e07af3d7652045a727...</td>\n",
       "      <td>Masculino</td>\n",
       "      <td>Nao</td>\n",
       "      <td>Nao</td>\n",
       "      <td>NaN</td>\n",
       "      <td>Versao nao definida</td>\n",
       "      <td>NaN</td>\n",
       "      <td>Nao</td>\n",
       "      <td>Minas Gerais</td>\n",
       "      <td>NaN</td>\n",
       "      <td>...</td>\n",
       "      <td>2611202126072022</td>\n",
       "      <td>NaN</td>\n",
       "      <td>PFIZERPFIZERBELGICA</td>\n",
       "      <td>SuspeitoSuspeito</td>\n",
       "      <td>FM38097082</td>\n",
       "      <td>2a DoseD3  3a Dose</td>\n",
       "      <td>COVID19 PFIZER  COMIRNATYVacina Covid19RNAm Pf...</td>\n",
       "      <td>8787</td>\n",
       "      <td>NaN</td>\n",
       "      <td>NaN</td>\n",
       "    </tr>\n",
       "  </tbody>\n",
       "</table>\n",
       "<p>5 rows × 73 columns</p>\n",
       "</div>"
      ]
     },
     "metadata": {
      "application/vnd.databricks.v1+output": {
       "addedWidgets": {},
       "arguments": {},
       "data": "<div>\n<style scoped>\n    .dataframe tbody tr th:only-of-type {\n        vertical-align: middle;\n    }\n\n    .dataframe tbody tr th {\n        vertical-align: top;\n    }\n\n    .dataframe thead th {\n        text-align: right;\n    }\n</style>\n<table border=\"1\" class=\"dataframe\">\n  <thead>\n    <tr style=\"text-align: right;\">\n      <th></th>\n      <th>nu_notificacao</th>\n      <th>ds_sexo</th>\n      <th>st_comunidade_tradicional</th>\n      <th>ds_not_mae_filho</th>\n      <th>nu_mes_gestante</th>\n      <th>ds_versao_medra</th>\n      <th>ds_mulher_amamentando</th>\n      <th>ds_profissional_seguranca</th>\n      <th>no_estado</th>\n      <th>dt_recebimento_notificacao</th>\n      <th>...</th>\n      <th>dt_aplicacao_imuno</th>\n      <th>hr_aplica_imuno</th>\n      <th>ds_nome_fabricante</th>\n      <th>ds_relacao_imuno</th>\n      <th>ds_lote_imuno</th>\n      <th>ds_dose_imuno</th>\n      <th>ds_imuno</th>\n      <th>co_imuno</th>\n      <th>ds_medicamento</th>\n      <th>ds_relacao_medicamento</th>\n    </tr>\n  </thead>\n  <tbody>\n    <tr>\n      <th>0</th>\n      <td>000029813c6eaf176048023399b740b8a5085d737c2a04...</td>\n      <td>Masculino</td>\n      <td>Nao</td>\n      <td>Nao</td>\n      <td>NaN</td>\n      <td>Versao nao definida</td>\n      <td>NaN</td>\n      <td>Nao</td>\n      <td>Minas Gerais</td>\n      <td>NaN</td>\n      <td>...</td>\n      <td>14072021021020212203202225082022</td>\n      <td>NaN</td>\n      <td>PFIZERPFIZERPFIZERPFIZERBELGICA</td>\n      <td>SuspeitoSuspeitoSuspeitoSuspeito</td>\n      <td>FA909531045BDFP7082FT7280</td>\n      <td>1a Dose2a DoseReforcoR2  2o Reforco</td>\n      <td>COVID19 PFIZER  COMIRNATYCOVID19 PFIZER  COMIR...</td>\n      <td>87878787</td>\n      <td>NaN</td>\n      <td>NaN</td>\n    </tr>\n    <tr>\n      <th>1</th>\n      <td>00002e19248fa7b5b150687b0e0097ff78b4d78b360f02...</td>\n      <td>Feminino</td>\n      <td>Nao</td>\n      <td>Nao</td>\n      <td>5</td>\n      <td>Versao nao definida</td>\n      <td>Nao</td>\n      <td>Nao</td>\n      <td>Espirito Santo</td>\n      <td>NaN</td>\n      <td>...</td>\n      <td>06052021</td>\n      <td>1000</td>\n      <td>fiocruz</td>\n      <td>Suspeito</td>\n      <td>213vcd035w</td>\n      <td>D1  1a Dose</td>\n      <td>Covid19CovishieldOxfordFiocruz</td>\n      <td>85</td>\n      <td>NaN</td>\n      <td>NaN</td>\n    </tr>\n    <tr>\n      <th>2</th>\n      <td>000100a041871c0fc89e7f635a0cd5ac8b7d0d8d273d1c...</td>\n      <td>Feminino</td>\n      <td>Nao</td>\n      <td>Nao</td>\n      <td>NaN</td>\n      <td>Versao nao definida</td>\n      <td>Nao</td>\n      <td>Nao</td>\n      <td>Para</td>\n      <td>25042023</td>\n      <td>...</td>\n      <td>11042023</td>\n      <td>NaN</td>\n      <td>BAVARIAN</td>\n      <td>Suspeito</td>\n      <td>FD800068</td>\n      <td>D1  1a Dose</td>\n      <td>Vacina Variola Bavarian Nordic</td>\n      <td>100</td>\n      <td>NaN</td>\n      <td>NaN</td>\n    </tr>\n    <tr>\n      <th>3</th>\n      <td>00011568703295ff79fc780063fba2c2df4092789315fd...</td>\n      <td>Masculino</td>\n      <td>Nao</td>\n      <td>Nao</td>\n      <td>NaN</td>\n      <td>Versao nao definida</td>\n      <td>NaN</td>\n      <td>Nao</td>\n      <td>Parana</td>\n      <td>08042021</td>\n      <td>...</td>\n      <td>01042021</td>\n      <td>NaN</td>\n      <td>BUTANTAN</td>\n      <td>Suspeito</td>\n      <td>210040</td>\n      <td>D2  2a Dose</td>\n      <td>Covid19CoronavacSinovacButantan</td>\n      <td>86</td>\n      <td>NaN</td>\n      <td>NaN</td>\n    </tr>\n    <tr>\n      <th>4</th>\n      <td>00015c8d041ffe81d2ea24696697e07af3d7652045a727...</td>\n      <td>Masculino</td>\n      <td>Nao</td>\n      <td>Nao</td>\n      <td>NaN</td>\n      <td>Versao nao definida</td>\n      <td>NaN</td>\n      <td>Nao</td>\n      <td>Minas Gerais</td>\n      <td>NaN</td>\n      <td>...</td>\n      <td>2611202126072022</td>\n      <td>NaN</td>\n      <td>PFIZERPFIZERBELGICA</td>\n      <td>SuspeitoSuspeito</td>\n      <td>FM38097082</td>\n      <td>2a DoseD3  3a Dose</td>\n      <td>COVID19 PFIZER  COMIRNATYVacina Covid19RNAm Pf...</td>\n      <td>8787</td>\n      <td>NaN</td>\n      <td>NaN</td>\n    </tr>\n  </tbody>\n</table>\n<p>5 rows × 73 columns</p>\n</div>",
       "datasetInfos": [],
       "metadata": {},
       "removedWidgets": [],
       "textData": null,
       "type": "htmlSandbox"
      }
     },
     "output_type": "display_data"
    }
   ],
   "source": [
    "esavi_data = df.applymap(remover_caracteres_especiais)\n",
    "esavi_data.head()"
   ]
  },
  {
   "cell_type": "markdown",
   "metadata": {
    "application/vnd.databricks.v1+cell": {
     "cellMetadata": {
      "byteLimit": 2048000,
      "rowLimit": 10000
     },
     "inputWidgets": {},
     "nuid": "5adf2deb-99c5-4233-bc8f-5abff9a75d65",
     "showTitle": false,
     "tableResultSettingsMap": {},
     "title": ""
    }
   },
   "source": [
    "Agora vamos obter a descrição da tabela de dados com o intuito de entender melhor esses dados para o processo de modelagem."
   ]
  },
  {
   "cell_type": "code",
   "execution_count": 0,
   "metadata": {
    "application/vnd.databricks.v1+cell": {
     "cellMetadata": {
      "byteLimit": 2048000,
      "rowLimit": 10000
     },
     "inputWidgets": {},
     "nuid": "5e00fdca-80cc-4a1a-88eb-959a316d14c1",
     "showTitle": false,
     "tableResultSettingsMap": {},
     "title": ""
    }
   },
   "outputs": [
    {
     "output_type": "stream",
     "name": "stdout",
     "output_type": "stream",
     "text": [
      "Out[12]: Index(['nu_notificacao', 'ds_sexo', 'st_comunidade_tradicional',\n       'ds_not_mae_filho', 'nu_mes_gestante', 'ds_versao_medra',\n       'ds_mulher_amamentando', 'ds_profissional_seguranca', 'no_estado',\n       'dt_recebimento_notificacao', 'ds_raca_cor_mae', 'ds_gestante',\n       'no_estado_notificacao', 'dt_desfecho', 'nu_idade', 'ds_raca_cor',\n       'no_municipio', 'ds_crianca_aleitamento', 'ds_estrangeiro',\n       'ds_profissional_saude', 'no_estado_mae', 'no_mun_mae',\n       'ds_medicamento_uso', 'ds_atendimento_medico', 'dt_investigacao',\n       'ds_mae_gestante', 'nu_mes_gestacao_mae', 'ds_mae_amamentando',\n       'dt_notificacao', 'ds_situacao_notificacao', 'no_mun_notificacao',\n       'ds_evolucao_caso', 'ds_tipo_atendimento',\n       'no_estado_estab_atendimento', 'dt_admissao_atendimento',\n       'no_mun_estab_atendimento', 'dt_alta_atendimento', 'ds_evento_adverso',\n       'ds_casualidade', 'ds_conduta', 'ds_diagnostico',\n       'ds_doencas_pre_existentes', 'dt_encerramento', 'ds_encerramento_grave',\n       'ds_tipo_encerramento', 'ds_class_gravidade_ea',\n       'ds_hora_reacao_intervalo_admin_ea', 'hr_duracao_ea', 'ds_gravidade_ea',\n       'ds_dia_reacao_intervalo_admin_ea',\n       'ds_minuto_reacao_intervalo_admin_ea', 'ds_tipo_ea', 'ds_reacao_ea',\n       'co_reacao_ea', 'dt_inicio_ea', 'ds_hora_inicio_ea', 'dt_termino_ea',\n       'ds_hora_termino_ea', 'ds_dia_duracao_ea', 'ds_minuto_duracao_ea',\n       'ds_estrategia_imuno', 'ds_via_admin_imuno', 'ds_local_aplica_imuno',\n       'dt_aplicacao_imuno', 'hr_aplica_imuno', 'ds_nome_fabricante',\n       'ds_relacao_imuno', 'ds_lote_imuno', 'ds_dose_imuno', 'ds_imuno',\n       'co_imuno', 'ds_medicamento', 'ds_relacao_medicamento'],\n      dtype='object')"
     ]
    }
   ],
   "source": [
    "#Puxando o nome das colunas individualmente\n",
    "esavi_data.columns"
   ]
  },
  {
   "cell_type": "code",
   "execution_count": 0,
   "metadata": {
    "application/vnd.databricks.v1+cell": {
     "cellMetadata": {
      "byteLimit": 2048000,
      "rowLimit": 10000
     },
     "inputWidgets": {},
     "nuid": "2f27716f-7d80-44fe-ad64-836b3d5566e2",
     "showTitle": false,
     "tableResultSettingsMap": {},
     "title": ""
    }
   },
   "outputs": [
    {
     "output_type": "stream",
     "name": "stdout",
     "output_type": "stream",
     "text": [
      "Out[13]: False"
     ]
    }
   ],
   "source": [
    "# Checando se há linhas com dados vazios\n",
    "esavi_data[\"nu_notificacao\"].isnull().any()"
   ]
  },
  {
   "cell_type": "code",
   "execution_count": 0,
   "metadata": {
    "application/vnd.databricks.v1+cell": {
     "cellMetadata": {
      "byteLimit": 2048000,
      "rowLimit": 10000
     },
     "inputWidgets": {},
     "nuid": "1d3744de-17f0-4d51-8398-1f093dbb3071",
     "showTitle": false,
     "tableResultSettingsMap": {},
     "title": ""
    }
   },
   "outputs": [
    {
     "output_type": "stream",
     "name": "stdout",
     "output_type": "stream",
     "text": [
      "Out[14]:       BELGIUM NV  BELGICA                                           8\n      BELGIUM NV  BELGICAPFIZER                                     4\n980d67833fa2b520150471ee45c5ecbaa4575e48deb95baa8e26fbe498af28e8    4\n585a250dd51e519910e9f0fdcef52ae9fffc24d4d7269d7b4ce8d53706cb9b4e    3\n9ca71effc3e0e168e1ab4c4fe042f0abaa1fbd7523637aed62dd9f401f3c9838    3\n                                                                   ..\n5567301e6b95204a130dd2ab4852e105b2dd5fed737eff96806f10911365e464    1\n55674ddd75250bf847b91b7be741963db0c84b905322ba0746772422623187d5    1\n5567855074881258944a027e2b02e51618958beae767a8899d5a55002c3a2edd    1\n5567f8a61925d1491278484503490a811f8bce308df4a4cebb3746838ee8bac1    1\nffffd8ba0f65fcd3d48ea395f9dadc60d8b2429d7238cd54a05b30aafc7c9de4    1\nName: nu_notificacao, Length: 279860, dtype: int64"
     ]
    }
   ],
   "source": [
    "esavi_data[\"nu_notificacao\"].value_counts()\n"
   ]
  },
  {
   "cell_type": "markdown",
   "metadata": {
    "application/vnd.databricks.v1+cell": {
     "cellMetadata": {
      "byteLimit": 2048000,
      "rowLimit": 10000
     },
     "inputWidgets": {},
     "nuid": "18d4e170-ab48-425a-a330-ed5f49e0e559",
     "showTitle": false,
     "tableResultSettingsMap": {},
     "title": ""
    }
   },
   "source": [
    "No comando acima conseguimos identificar que tem algumas linhas com valores incorretos para o campo nu_notificacao. Vamos entender com mais detalhes."
   ]
  },
  {
   "cell_type": "code",
   "execution_count": 0,
   "metadata": {
    "application/vnd.databricks.v1+cell": {
     "cellMetadata": {
      "byteLimit": 2048000,
      "rowLimit": 10000
     },
     "inputWidgets": {},
     "nuid": "544e09d3-ab6e-4d25-81fc-c19e17f5ab18",
     "showTitle": false,
     "tableResultSettingsMap": {},
     "title": ""
    }
   },
   "outputs": [
    {
     "output_type": "stream",
     "name": "stdout",
     "output_type": "stream",
     "text": [
      "                                           nu_notificacao  \\\n24529                                 BELGIUM NV  BELGICA   \n24860         BELGIUM NV  BELGICAPFIZER MANUFACTURING ...   \n56621            BELGIUM NV  BELGICAPFIZER MANUFACTURING    \n56622         BELGIUM NV  BELGICAMINISTERIO DA SAUDEMI...   \n57771                                 BELGIUM NV  BELGICA   \n86439                           BELGIUM NV  BELGICAPFIZER   \n86839              BELGIUM NV  BELGICAMINISTERIO DA SAUDE   \n89880         BELGIUM NV  BELGICAPFIZERBIONTECHPFIZERP...   \n100311                                BELGIUM NV  BELGICA   \n107162                                BELGIUM NV  BELGICA   \n118252           BELGIUM NV  BELGICAPFIZER MANUFACTURING    \n118253        BELGIUM NV  BELGICAFUNDACAO OSWALDO CRUZ...   \n120328                                BELGIUM NV  BELGICA   \n140871                                BELGIUM NV  BELGICA   \n142032                          BELGIUM NV  BELGICAPFIZER   \n144838                                BELGIUM NV  BELGICA   \n191974                                BELGIUM NV  BELGICA   \n228232                          BELGIUM NV  BELGICAPFIZER   \n237255                          BELGIUM NV  BELGICAPFIZER   \n\n                                                  ds_sexo  \\\n24529                                            Suspeito   \n24860                            SuspeitoSuspeitoSuspeito   \n56621                                                 NaN   \n56622                    SuspeitoSuspeitoSuspeitoSuspeito   \n57771                                            Suspeito   \n86439                                    SuspeitoSuspeito   \n86839                                    SuspeitoSuspeito   \n89880            SuspeitoSuspeitoSuspeitoSuspeitoSuspeito   \n100311                                           Suspeito   \n107162                                           Suspeito   \n118252                                                NaN   \n118253  SuspeitoSuspeitoSuspeitoSuspeitoSuspeitoSuspei...   \n120328                                           Suspeito   \n140871                                           Suspeito   \n142032                                   SuspeitoSuspeito   \n144838                                           Suspeito   \n191974                                   SuspeitoSuspeito   \n228232                                   SuspeitoSuspeito   \n237255                                   SuspeitoSuspeito   \n\n                                st_comunidade_tradicional  \\\n24529                                              FD7219   \n24860                                       FD721931025BD   \n56621                                                 NaN   \n56622                            FD7219FD7219EX2405EX2405   \n57771                                              FD7219   \n86439                                        FD7219FD7219   \n86839                                        FD7219EX2405   \n89880                            EX2405FD7219FD7219EW0195   \n100311                                             FD7219   \n107162                                             FD7219   \n118252                                                NaN   \n118253  FD7219FD7219fd7219213VCD004ZVA 4120Z005213VCD0...   \n120328                                             FD7219   \n140871                                             FD7219   \n142032                                       FD7219FD7219   \n144838                                             FD7219   \n191974                                       FG3528FD7219   \n228232                                       FD7219FD7219   \n237255                                       FD7219FD7219   \n\n                                         ds_not_mae_filho  \\\n24529                                             1a Dose   \n24860                           1a Dose2a DoseD2  2a Dose   \n56621                                                 NaN   \n56622                        2a Dose2a Dose1a Dose1a Dose   \n57771                                             1a Dose   \n86439                                  1a DoseD1  1a Dose   \n86839                                      2a Dose1a Dose   \n89880             1a Dose2a Dose2a DoseD2  2a Dose1a Dose   \n100311                                            1a Dose   \n107162                                            1a Dose   \n118252                                                NaN   \n118253  1a Dose1a DoseD1  1a Dose2a Dose1a Dose2a Dose...   \n120328                                            1a Dose   \n140871                                            1a Dose   \n142032                                 1a DoseD1  1a Dose   \n144838                                            1a Dose   \n191974                                 D2  2a Dose1a Dose   \n228232                                 1a DoseD1  1a Dose   \n237255                                 1a DoseD1  1a Dose   \n\n                                          nu_mes_gestante ds_versao_medra  \\\n24529   Vacina covid19  BNT162b2  BioNTechFosun Pharma...              87   \n24860   Vacina covid19  BNT162b2  BioNTechFosun Pharma...          878787   \n56621                                                 NaN             NaN   \n56622   Vacina covid19  BNT162b2  BioNTechFosun Pharma...        87878787   \n57771   Vacina covid19  BNT162b2  BioNTechFosun Pharma...              87   \n86439   Vacina covid19  BNT162b2  BioNTechFosun Pharma...            8787   \n86839   Vacina covid19  BNT162b2  BioNTechFosun Pharma...            8787   \n89880   Vacina covid19  BNT162b2  BioNTechFosun Pharma...      8787878787   \n100311  Vacina covid19  BNT162b2  BioNTechFosun Pharma...              87   \n107162  Vacina covid19  BNT162b2  BioNTechFosun Pharma...              87   \n118252                                                NaN             NaN   \n118253  Vacina covid19  BNT162b2  BioNTechFosun Pharma...  87878785858585   \n120328  Vacina covid19  BNT162b2  BioNTechFosun Pharma...              87   \n140871  Vacina covid19  BNT162b2  BioNTechFosun Pharma...              87   \n142032  Vacina covid19  BNT162b2  BioNTechFosun Pharma...            8787   \n144838  Vacina covid19  BNT162b2  BioNTechFosun Pharma...              87   \n191974  Vacina Covid19RNAm Pfizer ComirnatyVacina covi...            8787   \n228232  Vacina covid19  BNT162b2  BioNTechFosun Pharma...            8787   \n237255  Vacina covid19  BNT162b2  BioNTechFosun Pharma...            8787   \n\n       ds_mulher_amamentando ds_profissional_seguranca no_estado  \\\n24529                    NaN                       NaN       NaN   \n24860                    NaN                       NaN       NaN   \n56621                    NaN                       NaN       NaN   \n56622                    NaN                       NaN       NaN   \n57771                    NaN                       NaN       NaN   \n86439                    NaN                       NaN       NaN   \n86839                    NaN                       NaN       NaN   \n89880                    NaN                       NaN       NaN   \n100311                   NaN                       NaN       NaN   \n107162                   NaN                       NaN       NaN   \n118252                   NaN                       NaN       NaN   \n118253                   NaN                       NaN       NaN   \n120328                   NaN                       NaN       NaN   \n140871                   NaN                       NaN       NaN   \n142032                   NaN                       NaN       NaN   \n144838                   NaN                       NaN       NaN   \n191974            CITALOPRAM              Concomitante       NaN   \n228232                   NaN                       NaN       NaN   \n237255                   NaN                       NaN       NaN   \n\n       dt_recebimento_notificacao  ... dt_aplicacao_imuno hr_aplica_imuno  \\\n24529                         NaN  ...                NaN             NaN   \n24860                         NaN  ...                NaN             NaN   \n56621                         NaN  ...                NaN             NaN   \n56622                         NaN  ...                NaN             NaN   \n57771                         NaN  ...                NaN             NaN   \n86439                         NaN  ...                NaN             NaN   \n86839                         NaN  ...                NaN             NaN   \n89880                         NaN  ...                NaN             NaN   \n100311                        NaN  ...                NaN             NaN   \n107162                        NaN  ...                NaN             NaN   \n118252                        NaN  ...                NaN             NaN   \n118253                        NaN  ...                NaN             NaN   \n120328                        NaN  ...                NaN             NaN   \n140871                        NaN  ...                NaN             NaN   \n142032                        NaN  ...                NaN             NaN   \n144838                        NaN  ...                NaN             NaN   \n191974                        NaN  ...                NaN             NaN   \n228232                        NaN  ...                NaN             NaN   \n237255                        NaN  ...                NaN             NaN   \n\n       ds_nome_fabricante ds_relacao_imuno  ds_lote_imuno ds_dose_imuno  \\\n24529                 NaN              NaN            NaN           NaN   \n24860                 NaN              NaN            NaN           NaN   \n56621                 NaN              NaN            NaN           NaN   \n56622                 NaN              NaN            NaN           NaN   \n57771                 NaN              NaN            NaN           NaN   \n86439                 NaN              NaN            NaN           NaN   \n86839                 NaN              NaN            NaN           NaN   \n89880                 NaN              NaN            NaN           NaN   \n100311                NaN              NaN            NaN           NaN   \n107162                NaN              NaN            NaN           NaN   \n118252                NaN              NaN            NaN           NaN   \n118253                NaN              NaN            NaN           NaN   \n120328                NaN              NaN            NaN           NaN   \n140871                NaN              NaN            NaN           NaN   \n142032                NaN              NaN            NaN           NaN   \n144838                NaN              NaN            NaN           NaN   \n191974                NaN              NaN            NaN           NaN   \n228232                NaN              NaN            NaN           NaN   \n237255                NaN              NaN            NaN           NaN   \n\n       ds_imuno co_imuno ds_medicamento ds_relacao_medicamento  \n24529       NaN      NaN            NaN                    NaN  \n24860       NaN      NaN            NaN                    NaN  \n56621       NaN      NaN            NaN                    NaN  \n56622       NaN      NaN            NaN                    NaN  \n57771       NaN      NaN            NaN                    NaN  \n86439       NaN      NaN            NaN                    NaN  \n86839       NaN      NaN            NaN                    NaN  \n89880       NaN      NaN            NaN                    NaN  \n100311      NaN      NaN            NaN                    NaN  \n107162      NaN      NaN            NaN                    NaN  \n118252      NaN      NaN            NaN                    NaN  \n118253      NaN      NaN            NaN                    NaN  \n120328      NaN      NaN            NaN                    NaN  \n140871      NaN      NaN            NaN                    NaN  \n142032      NaN      NaN            NaN                    NaN  \n144838      NaN      NaN            NaN                    NaN  \n191974      NaN      NaN            NaN                    NaN  \n228232      NaN      NaN            NaN                    NaN  \n237255      NaN      NaN            NaN                    NaN  \n\n[19 rows x 73 columns]\n"
     ]
    }
   ],
   "source": [
    "valores = [\"BELGIUM\"]\n",
    "\n",
    "# Remove espaços extras das strings\n",
    "valores = [val.strip() for val in valores]\n",
    "\n",
    "# Filtra as linhas onde a coluna 'nu_notificacao' contém algum dos valores\n",
    "resultado = esavi_data[esavi_data[\"nu_notificacao\"].str.contains('|'.join(valores), na=False)]\n",
    "\n",
    "# Exibe o resultado\n",
    "print(resultado)\n"
   ]
  },
  {
   "cell_type": "markdown",
   "metadata": {
    "application/vnd.databricks.v1+cell": {
     "cellMetadata": {
      "byteLimit": 2048000,
      "rowLimit": 10000
     },
     "inputWidgets": {},
     "nuid": "2efeb1ae-839b-4d89-9359-403a93339650",
     "showTitle": false,
     "tableResultSettingsMap": {},
     "title": ""
    }
   },
   "source": [
    "Considerando que são apenas 19 linhas, e esse padrão também foi encontrado no csv, por simplicidade vamos fazer a remoção dessas linhas."
   ]
  },
  {
   "cell_type": "code",
   "execution_count": 0,
   "metadata": {
    "application/vnd.databricks.v1+cell": {
     "cellMetadata": {
      "byteLimit": 2048000,
      "rowLimit": 10000
     },
     "inputWidgets": {},
     "nuid": "cf1be28e-8419-47de-b64d-593db5c3de6a",
     "showTitle": false,
     "tableResultSettingsMap": {},
     "title": ""
    }
   },
   "outputs": [],
   "source": [
    "# Remove as linhas onde a coluna 'nu_notificacao' contém algum dos valores\n",
    "esavi_data_filtrado = esavi_data[~esavi_data[\"nu_notificacao\"].str.contains('|'.join(valores), na=False)]\n",
    "\n"
   ]
  },
  {
   "cell_type": "code",
   "execution_count": 0,
   "metadata": {
    "application/vnd.databricks.v1+cell": {
     "cellMetadata": {
      "byteLimit": 2048000,
      "rowLimit": 10000
     },
     "inputWidgets": {},
     "nuid": "eee5cc2f-f807-4b39-b080-cfef2bfc0429",
     "showTitle": false,
     "tableResultSettingsMap": {},
     "title": ""
    }
   },
   "outputs": [
    {
     "output_type": "stream",
     "name": "stdout",
     "output_type": "stream",
     "text": [
      "Out[17]: 980d67833fa2b520150471ee45c5ecbaa4575e48deb95baa8e26fbe498af28e8    4\n585a250dd51e519910e9f0fdcef52ae9fffc24d4d7269d7b4ce8d53706cb9b4e    3\n2ff382ed9752b16c3d3cd6b7007632c3915eafcf2bad9c787b7fcf69449f264e    3\ne5db618f428d87f71d06392ee5a84db7850dcef7a00ec4bc48aeb0d9331557ac    3\nd4bd2c148a75dfde0a945e7068e83797c92d42bea1890276d1e9aa46d05bc64a    3\n                                                                   ..\n5567855074881258944a027e2b02e51618958beae767a8899d5a55002c3a2edd    1\n5567f8a61925d1491278484503490a811f8bce308df4a4cebb3746838ee8bac1    1\n5567f8f276cf34340276c6bc2aa233f681df89adffd61d4721c10a487d422978    1\n55680f5302a98d3a39fd0cf02a2b53b27f92f03d0142ecb4a6f0786fc9f5a78e    1\nffffd8ba0f65fcd3d48ea395f9dadc60d8b2429d7238cd54a05b30aafc7c9de4    1\nName: nu_notificacao, Length: 279852, dtype: int64"
     ]
    }
   ],
   "source": [
    "# checando se deu certo a remocao\n",
    "esavi_data_filtrado[\"nu_notificacao\"].value_counts()\n"
   ]
  },
  {
   "cell_type": "code",
   "execution_count": 0,
   "metadata": {
    "application/vnd.databricks.v1+cell": {
     "cellMetadata": {
      "byteLimit": 2048000,
      "rowLimit": 10000
     },
     "inputWidgets": {},
     "nuid": "20f68705-3c75-4cd0-8201-58aaa9865c25",
     "showTitle": false,
     "tableResultSettingsMap": {},
     "title": ""
    }
   },
   "outputs": [
    {
     "output_type": "display_data",
     "data": {
      "text/html": [
       "<div>\n",
       "<style scoped>\n",
       "    .dataframe tbody tr th:only-of-type {\n",
       "        vertical-align: middle;\n",
       "    }\n",
       "\n",
       "    .dataframe tbody tr th {\n",
       "        vertical-align: top;\n",
       "    }\n",
       "\n",
       "    .dataframe thead th {\n",
       "        text-align: right;\n",
       "    }\n",
       "</style>\n",
       "<table border=\"1\" class=\"dataframe\">\n",
       "  <thead>\n",
       "    <tr style=\"text-align: right;\">\n",
       "      <th></th>\n",
       "      <th>nu_notificacao</th>\n",
       "      <th>ds_sexo</th>\n",
       "      <th>st_comunidade_tradicional</th>\n",
       "      <th>ds_not_mae_filho</th>\n",
       "      <th>nu_mes_gestante</th>\n",
       "      <th>ds_versao_medra</th>\n",
       "      <th>ds_mulher_amamentando</th>\n",
       "      <th>ds_profissional_seguranca</th>\n",
       "      <th>no_estado</th>\n",
       "      <th>dt_recebimento_notificacao</th>\n",
       "      <th>...</th>\n",
       "      <th>dt_aplicacao_imuno</th>\n",
       "      <th>hr_aplica_imuno</th>\n",
       "      <th>ds_nome_fabricante</th>\n",
       "      <th>ds_relacao_imuno</th>\n",
       "      <th>ds_lote_imuno</th>\n",
       "      <th>ds_dose_imuno</th>\n",
       "      <th>ds_imuno</th>\n",
       "      <th>co_imuno</th>\n",
       "      <th>ds_medicamento</th>\n",
       "      <th>ds_relacao_medicamento</th>\n",
       "    </tr>\n",
       "  </thead>\n",
       "  <tbody>\n",
       "    <tr>\n",
       "      <th>count</th>\n",
       "      <td>279921</td>\n",
       "      <td>279919</td>\n",
       "      <td>248007</td>\n",
       "      <td>279919</td>\n",
       "      <td>5438</td>\n",
       "      <td>268365</td>\n",
       "      <td>177020</td>\n",
       "      <td>277361</td>\n",
       "      <td>279919</td>\n",
       "      <td>131504</td>\n",
       "      <td>...</td>\n",
       "      <td>277793</td>\n",
       "      <td>111923</td>\n",
       "      <td>258241</td>\n",
       "      <td>279904</td>\n",
       "      <td>269219</td>\n",
       "      <td>279904</td>\n",
       "      <td>279904</td>\n",
       "      <td>279904</td>\n",
       "      <td>22803</td>\n",
       "      <td>22803</td>\n",
       "    </tr>\n",
       "    <tr>\n",
       "      <th>unique</th>\n",
       "      <td>279852</td>\n",
       "      <td>2</td>\n",
       "      <td>2</td>\n",
       "      <td>2</td>\n",
       "      <td>10</td>\n",
       "      <td>1</td>\n",
       "      <td>2</td>\n",
       "      <td>2</td>\n",
       "      <td>27</td>\n",
       "      <td>1431</td>\n",
       "      <td>...</td>\n",
       "      <td>44218</td>\n",
       "      <td>4334</td>\n",
       "      <td>10421</td>\n",
       "      <td>240</td>\n",
       "      <td>76584</td>\n",
       "      <td>6570</td>\n",
       "      <td>10886</td>\n",
       "      <td>8098</td>\n",
       "      <td>16250</td>\n",
       "      <td>230</td>\n",
       "    </tr>\n",
       "    <tr>\n",
       "      <th>top</th>\n",
       "      <td>980d67833fa2b520150471ee45c5ecbaa4575e48deb95b...</td>\n",
       "      <td>Feminino</td>\n",
       "      <td>Nao</td>\n",
       "      <td>Nao</td>\n",
       "      <td>1</td>\n",
       "      <td>Versao nao definida</td>\n",
       "      <td>Nao</td>\n",
       "      <td>Nao</td>\n",
       "      <td>Minas Gerais</td>\n",
       "      <td>02022021</td>\n",
       "      <td>...</td>\n",
       "      <td>01022021</td>\n",
       "      <td>1000</td>\n",
       "      <td>FIOCRUZ</td>\n",
       "      <td>Suspeito</td>\n",
       "      <td>4120Z005</td>\n",
       "      <td>D1  1a Dose</td>\n",
       "      <td>Covid19CoronavacSinovacButantan</td>\n",
       "      <td>85</td>\n",
       "      <td>LOSARTANA</td>\n",
       "      <td>Concomitante</td>\n",
       "    </tr>\n",
       "    <tr>\n",
       "      <th>freq</th>\n",
       "      <td>4</td>\n",
       "      <td>177019</td>\n",
       "      <td>245617</td>\n",
       "      <td>276874</td>\n",
       "      <td>964</td>\n",
       "      <td>268365</td>\n",
       "      <td>174571</td>\n",
       "      <td>275067</td>\n",
       "      <td>52945</td>\n",
       "      <td>1122</td>\n",
       "      <td>...</td>\n",
       "      <td>2824</td>\n",
       "      <td>15721</td>\n",
       "      <td>30261</td>\n",
       "      <td>186135</td>\n",
       "      <td>12715</td>\n",
       "      <td>106462</td>\n",
       "      <td>28836</td>\n",
       "      <td>71051</td>\n",
       "      <td>405</td>\n",
       "      <td>6229</td>\n",
       "    </tr>\n",
       "    <tr>\n",
       "      <th>mean</th>\n",
       "      <td>NaN</td>\n",
       "      <td>NaN</td>\n",
       "      <td>NaN</td>\n",
       "      <td>NaN</td>\n",
       "      <td>NaN</td>\n",
       "      <td>NaN</td>\n",
       "      <td>NaN</td>\n",
       "      <td>NaN</td>\n",
       "      <td>NaN</td>\n",
       "      <td>NaN</td>\n",
       "      <td>...</td>\n",
       "      <td>NaN</td>\n",
       "      <td>NaN</td>\n",
       "      <td>NaN</td>\n",
       "      <td>NaN</td>\n",
       "      <td>NaN</td>\n",
       "      <td>NaN</td>\n",
       "      <td>NaN</td>\n",
       "      <td>NaN</td>\n",
       "      <td>NaN</td>\n",
       "      <td>NaN</td>\n",
       "    </tr>\n",
       "    <tr>\n",
       "      <th>std</th>\n",
       "      <td>NaN</td>\n",
       "      <td>NaN</td>\n",
       "      <td>NaN</td>\n",
       "      <td>NaN</td>\n",
       "      <td>NaN</td>\n",
       "      <td>NaN</td>\n",
       "      <td>NaN</td>\n",
       "      <td>NaN</td>\n",
       "      <td>NaN</td>\n",
       "      <td>NaN</td>\n",
       "      <td>...</td>\n",
       "      <td>NaN</td>\n",
       "      <td>NaN</td>\n",
       "      <td>NaN</td>\n",
       "      <td>NaN</td>\n",
       "      <td>NaN</td>\n",
       "      <td>NaN</td>\n",
       "      <td>NaN</td>\n",
       "      <td>NaN</td>\n",
       "      <td>NaN</td>\n",
       "      <td>NaN</td>\n",
       "    </tr>\n",
       "    <tr>\n",
       "      <th>min</th>\n",
       "      <td>NaN</td>\n",
       "      <td>NaN</td>\n",
       "      <td>NaN</td>\n",
       "      <td>NaN</td>\n",
       "      <td>NaN</td>\n",
       "      <td>NaN</td>\n",
       "      <td>NaN</td>\n",
       "      <td>NaN</td>\n",
       "      <td>NaN</td>\n",
       "      <td>NaN</td>\n",
       "      <td>...</td>\n",
       "      <td>NaN</td>\n",
       "      <td>NaN</td>\n",
       "      <td>NaN</td>\n",
       "      <td>NaN</td>\n",
       "      <td>NaN</td>\n",
       "      <td>NaN</td>\n",
       "      <td>NaN</td>\n",
       "      <td>NaN</td>\n",
       "      <td>NaN</td>\n",
       "      <td>NaN</td>\n",
       "    </tr>\n",
       "    <tr>\n",
       "      <th>25%</th>\n",
       "      <td>NaN</td>\n",
       "      <td>NaN</td>\n",
       "      <td>NaN</td>\n",
       "      <td>NaN</td>\n",
       "      <td>NaN</td>\n",
       "      <td>NaN</td>\n",
       "      <td>NaN</td>\n",
       "      <td>NaN</td>\n",
       "      <td>NaN</td>\n",
       "      <td>NaN</td>\n",
       "      <td>...</td>\n",
       "      <td>NaN</td>\n",
       "      <td>NaN</td>\n",
       "      <td>NaN</td>\n",
       "      <td>NaN</td>\n",
       "      <td>NaN</td>\n",
       "      <td>NaN</td>\n",
       "      <td>NaN</td>\n",
       "      <td>NaN</td>\n",
       "      <td>NaN</td>\n",
       "      <td>NaN</td>\n",
       "    </tr>\n",
       "    <tr>\n",
       "      <th>50%</th>\n",
       "      <td>NaN</td>\n",
       "      <td>NaN</td>\n",
       "      <td>NaN</td>\n",
       "      <td>NaN</td>\n",
       "      <td>NaN</td>\n",
       "      <td>NaN</td>\n",
       "      <td>NaN</td>\n",
       "      <td>NaN</td>\n",
       "      <td>NaN</td>\n",
       "      <td>NaN</td>\n",
       "      <td>...</td>\n",
       "      <td>NaN</td>\n",
       "      <td>NaN</td>\n",
       "      <td>NaN</td>\n",
       "      <td>NaN</td>\n",
       "      <td>NaN</td>\n",
       "      <td>NaN</td>\n",
       "      <td>NaN</td>\n",
       "      <td>NaN</td>\n",
       "      <td>NaN</td>\n",
       "      <td>NaN</td>\n",
       "    </tr>\n",
       "    <tr>\n",
       "      <th>75%</th>\n",
       "      <td>NaN</td>\n",
       "      <td>NaN</td>\n",
       "      <td>NaN</td>\n",
       "      <td>NaN</td>\n",
       "      <td>NaN</td>\n",
       "      <td>NaN</td>\n",
       "      <td>NaN</td>\n",
       "      <td>NaN</td>\n",
       "      <td>NaN</td>\n",
       "      <td>NaN</td>\n",
       "      <td>...</td>\n",
       "      <td>NaN</td>\n",
       "      <td>NaN</td>\n",
       "      <td>NaN</td>\n",
       "      <td>NaN</td>\n",
       "      <td>NaN</td>\n",
       "      <td>NaN</td>\n",
       "      <td>NaN</td>\n",
       "      <td>NaN</td>\n",
       "      <td>NaN</td>\n",
       "      <td>NaN</td>\n",
       "    </tr>\n",
       "    <tr>\n",
       "      <th>max</th>\n",
       "      <td>NaN</td>\n",
       "      <td>NaN</td>\n",
       "      <td>NaN</td>\n",
       "      <td>NaN</td>\n",
       "      <td>NaN</td>\n",
       "      <td>NaN</td>\n",
       "      <td>NaN</td>\n",
       "      <td>NaN</td>\n",
       "      <td>NaN</td>\n",
       "      <td>NaN</td>\n",
       "      <td>...</td>\n",
       "      <td>NaN</td>\n",
       "      <td>NaN</td>\n",
       "      <td>NaN</td>\n",
       "      <td>NaN</td>\n",
       "      <td>NaN</td>\n",
       "      <td>NaN</td>\n",
       "      <td>NaN</td>\n",
       "      <td>NaN</td>\n",
       "      <td>NaN</td>\n",
       "      <td>NaN</td>\n",
       "    </tr>\n",
       "  </tbody>\n",
       "</table>\n",
       "<p>11 rows × 73 columns</p>\n",
       "</div>"
      ]
     },
     "metadata": {
      "application/vnd.databricks.v1+output": {
       "addedWidgets": {},
       "arguments": {},
       "data": "<div>\n<style scoped>\n    .dataframe tbody tr th:only-of-type {\n        vertical-align: middle;\n    }\n\n    .dataframe tbody tr th {\n        vertical-align: top;\n    }\n\n    .dataframe thead th {\n        text-align: right;\n    }\n</style>\n<table border=\"1\" class=\"dataframe\">\n  <thead>\n    <tr style=\"text-align: right;\">\n      <th></th>\n      <th>nu_notificacao</th>\n      <th>ds_sexo</th>\n      <th>st_comunidade_tradicional</th>\n      <th>ds_not_mae_filho</th>\n      <th>nu_mes_gestante</th>\n      <th>ds_versao_medra</th>\n      <th>ds_mulher_amamentando</th>\n      <th>ds_profissional_seguranca</th>\n      <th>no_estado</th>\n      <th>dt_recebimento_notificacao</th>\n      <th>...</th>\n      <th>dt_aplicacao_imuno</th>\n      <th>hr_aplica_imuno</th>\n      <th>ds_nome_fabricante</th>\n      <th>ds_relacao_imuno</th>\n      <th>ds_lote_imuno</th>\n      <th>ds_dose_imuno</th>\n      <th>ds_imuno</th>\n      <th>co_imuno</th>\n      <th>ds_medicamento</th>\n      <th>ds_relacao_medicamento</th>\n    </tr>\n  </thead>\n  <tbody>\n    <tr>\n      <th>count</th>\n      <td>279921</td>\n      <td>279919</td>\n      <td>248007</td>\n      <td>279919</td>\n      <td>5438</td>\n      <td>268365</td>\n      <td>177020</td>\n      <td>277361</td>\n      <td>279919</td>\n      <td>131504</td>\n      <td>...</td>\n      <td>277793</td>\n      <td>111923</td>\n      <td>258241</td>\n      <td>279904</td>\n      <td>269219</td>\n      <td>279904</td>\n      <td>279904</td>\n      <td>279904</td>\n      <td>22803</td>\n      <td>22803</td>\n    </tr>\n    <tr>\n      <th>unique</th>\n      <td>279852</td>\n      <td>2</td>\n      <td>2</td>\n      <td>2</td>\n      <td>10</td>\n      <td>1</td>\n      <td>2</td>\n      <td>2</td>\n      <td>27</td>\n      <td>1431</td>\n      <td>...</td>\n      <td>44218</td>\n      <td>4334</td>\n      <td>10421</td>\n      <td>240</td>\n      <td>76584</td>\n      <td>6570</td>\n      <td>10886</td>\n      <td>8098</td>\n      <td>16250</td>\n      <td>230</td>\n    </tr>\n    <tr>\n      <th>top</th>\n      <td>980d67833fa2b520150471ee45c5ecbaa4575e48deb95b...</td>\n      <td>Feminino</td>\n      <td>Nao</td>\n      <td>Nao</td>\n      <td>1</td>\n      <td>Versao nao definida</td>\n      <td>Nao</td>\n      <td>Nao</td>\n      <td>Minas Gerais</td>\n      <td>02022021</td>\n      <td>...</td>\n      <td>01022021</td>\n      <td>1000</td>\n      <td>FIOCRUZ</td>\n      <td>Suspeito</td>\n      <td>4120Z005</td>\n      <td>D1  1a Dose</td>\n      <td>Covid19CoronavacSinovacButantan</td>\n      <td>85</td>\n      <td>LOSARTANA</td>\n      <td>Concomitante</td>\n    </tr>\n    <tr>\n      <th>freq</th>\n      <td>4</td>\n      <td>177019</td>\n      <td>245617</td>\n      <td>276874</td>\n      <td>964</td>\n      <td>268365</td>\n      <td>174571</td>\n      <td>275067</td>\n      <td>52945</td>\n      <td>1122</td>\n      <td>...</td>\n      <td>2824</td>\n      <td>15721</td>\n      <td>30261</td>\n      <td>186135</td>\n      <td>12715</td>\n      <td>106462</td>\n      <td>28836</td>\n      <td>71051</td>\n      <td>405</td>\n      <td>6229</td>\n    </tr>\n    <tr>\n      <th>mean</th>\n      <td>NaN</td>\n      <td>NaN</td>\n      <td>NaN</td>\n      <td>NaN</td>\n      <td>NaN</td>\n      <td>NaN</td>\n      <td>NaN</td>\n      <td>NaN</td>\n      <td>NaN</td>\n      <td>NaN</td>\n      <td>...</td>\n      <td>NaN</td>\n      <td>NaN</td>\n      <td>NaN</td>\n      <td>NaN</td>\n      <td>NaN</td>\n      <td>NaN</td>\n      <td>NaN</td>\n      <td>NaN</td>\n      <td>NaN</td>\n      <td>NaN</td>\n    </tr>\n    <tr>\n      <th>std</th>\n      <td>NaN</td>\n      <td>NaN</td>\n      <td>NaN</td>\n      <td>NaN</td>\n      <td>NaN</td>\n      <td>NaN</td>\n      <td>NaN</td>\n      <td>NaN</td>\n      <td>NaN</td>\n      <td>NaN</td>\n      <td>...</td>\n      <td>NaN</td>\n      <td>NaN</td>\n      <td>NaN</td>\n      <td>NaN</td>\n      <td>NaN</td>\n      <td>NaN</td>\n      <td>NaN</td>\n      <td>NaN</td>\n      <td>NaN</td>\n      <td>NaN</td>\n    </tr>\n    <tr>\n      <th>min</th>\n      <td>NaN</td>\n      <td>NaN</td>\n      <td>NaN</td>\n      <td>NaN</td>\n      <td>NaN</td>\n      <td>NaN</td>\n      <td>NaN</td>\n      <td>NaN</td>\n      <td>NaN</td>\n      <td>NaN</td>\n      <td>...</td>\n      <td>NaN</td>\n      <td>NaN</td>\n      <td>NaN</td>\n      <td>NaN</td>\n      <td>NaN</td>\n      <td>NaN</td>\n      <td>NaN</td>\n      <td>NaN</td>\n      <td>NaN</td>\n      <td>NaN</td>\n    </tr>\n    <tr>\n      <th>25%</th>\n      <td>NaN</td>\n      <td>NaN</td>\n      <td>NaN</td>\n      <td>NaN</td>\n      <td>NaN</td>\n      <td>NaN</td>\n      <td>NaN</td>\n      <td>NaN</td>\n      <td>NaN</td>\n      <td>NaN</td>\n      <td>...</td>\n      <td>NaN</td>\n      <td>NaN</td>\n      <td>NaN</td>\n      <td>NaN</td>\n      <td>NaN</td>\n      <td>NaN</td>\n      <td>NaN</td>\n      <td>NaN</td>\n      <td>NaN</td>\n      <td>NaN</td>\n    </tr>\n    <tr>\n      <th>50%</th>\n      <td>NaN</td>\n      <td>NaN</td>\n      <td>NaN</td>\n      <td>NaN</td>\n      <td>NaN</td>\n      <td>NaN</td>\n      <td>NaN</td>\n      <td>NaN</td>\n      <td>NaN</td>\n      <td>NaN</td>\n      <td>...</td>\n      <td>NaN</td>\n      <td>NaN</td>\n      <td>NaN</td>\n      <td>NaN</td>\n      <td>NaN</td>\n      <td>NaN</td>\n      <td>NaN</td>\n      <td>NaN</td>\n      <td>NaN</td>\n      <td>NaN</td>\n    </tr>\n    <tr>\n      <th>75%</th>\n      <td>NaN</td>\n      <td>NaN</td>\n      <td>NaN</td>\n      <td>NaN</td>\n      <td>NaN</td>\n      <td>NaN</td>\n      <td>NaN</td>\n      <td>NaN</td>\n      <td>NaN</td>\n      <td>NaN</td>\n      <td>...</td>\n      <td>NaN</td>\n      <td>NaN</td>\n      <td>NaN</td>\n      <td>NaN</td>\n      <td>NaN</td>\n      <td>NaN</td>\n      <td>NaN</td>\n      <td>NaN</td>\n      <td>NaN</td>\n      <td>NaN</td>\n    </tr>\n    <tr>\n      <th>max</th>\n      <td>NaN</td>\n      <td>NaN</td>\n      <td>NaN</td>\n      <td>NaN</td>\n      <td>NaN</td>\n      <td>NaN</td>\n      <td>NaN</td>\n      <td>NaN</td>\n      <td>NaN</td>\n      <td>NaN</td>\n      <td>...</td>\n      <td>NaN</td>\n      <td>NaN</td>\n      <td>NaN</td>\n      <td>NaN</td>\n      <td>NaN</td>\n      <td>NaN</td>\n      <td>NaN</td>\n      <td>NaN</td>\n      <td>NaN</td>\n      <td>NaN</td>\n    </tr>\n  </tbody>\n</table>\n<p>11 rows × 73 columns</p>\n</div>",
       "datasetInfos": [],
       "metadata": {},
       "removedWidgets": [],
       "textData": null,
       "type": "htmlSandbox"
      }
     },
     "output_type": "display_data"
    }
   ],
   "source": [
    "esavi_data_filtrado.describe(include='all')\n"
   ]
  },
  {
   "cell_type": "markdown",
   "metadata": {
    "application/vnd.databricks.v1+cell": {
     "cellMetadata": {
      "byteLimit": 2048000,
      "rowLimit": 10000
     },
     "inputWidgets": {},
     "nuid": "29c663e7-f55d-4452-86da-00011f69f538",
     "showTitle": false,
     "tableResultSettingsMap": {},
     "title": ""
    }
   },
   "source": [
    "Agora os dados do dataset parecem mais coerentes. Vamos seguir para a modelagem desse banco de dados.\n",
    "\n"
   ]
  },
  {
   "cell_type": "code",
   "execution_count": 0,
   "metadata": {
    "application/vnd.databricks.v1+cell": {
     "cellMetadata": {
      "byteLimit": 2048000,
      "rowLimit": 10000
     },
     "inputWidgets": {},
     "nuid": "4a393aa1-154c-47c1-8910-e5580565a1a4",
     "showTitle": false,
     "tableResultSettingsMap": {},
     "title": ""
    }
   },
   "outputs": [
    {
     "output_type": "stream",
     "name": "stdout",
     "output_type": "stream",
     "text": [
      "Out[19]: Index(['nu_notificacao', 'ds_sexo', 'st_comunidade_tradicional',\n       'ds_not_mae_filho', 'nu_mes_gestante', 'ds_versao_medra',\n       'ds_mulher_amamentando', 'ds_profissional_seguranca', 'no_estado',\n       'dt_recebimento_notificacao', 'ds_raca_cor_mae', 'ds_gestante',\n       'no_estado_notificacao', 'dt_desfecho', 'nu_idade', 'ds_raca_cor',\n       'no_municipio', 'ds_crianca_aleitamento', 'ds_estrangeiro',\n       'ds_profissional_saude', 'no_estado_mae', 'no_mun_mae',\n       'ds_medicamento_uso', 'ds_atendimento_medico', 'dt_investigacao',\n       'ds_mae_gestante', 'nu_mes_gestacao_mae', 'ds_mae_amamentando',\n       'dt_notificacao', 'ds_situacao_notificacao', 'no_mun_notificacao',\n       'ds_evolucao_caso', 'ds_tipo_atendimento',\n       'no_estado_estab_atendimento', 'dt_admissao_atendimento',\n       'no_mun_estab_atendimento', 'dt_alta_atendimento', 'ds_evento_adverso',\n       'ds_casualidade', 'ds_conduta', 'ds_diagnostico',\n       'ds_doencas_pre_existentes', 'dt_encerramento', 'ds_encerramento_grave',\n       'ds_tipo_encerramento', 'ds_class_gravidade_ea',\n       'ds_hora_reacao_intervalo_admin_ea', 'hr_duracao_ea', 'ds_gravidade_ea',\n       'ds_dia_reacao_intervalo_admin_ea',\n       'ds_minuto_reacao_intervalo_admin_ea', 'ds_tipo_ea', 'ds_reacao_ea',\n       'co_reacao_ea', 'dt_inicio_ea', 'ds_hora_inicio_ea', 'dt_termino_ea',\n       'ds_hora_termino_ea', 'ds_dia_duracao_ea', 'ds_minuto_duracao_ea',\n       'ds_estrategia_imuno', 'ds_via_admin_imuno', 'ds_local_aplica_imuno',\n       'dt_aplicacao_imuno', 'hr_aplica_imuno', 'ds_nome_fabricante',\n       'ds_relacao_imuno', 'ds_lote_imuno', 'ds_dose_imuno', 'ds_imuno',\n       'co_imuno', 'ds_medicamento', 'ds_relacao_medicamento'],\n      dtype='object')"
     ]
    }
   ],
   "source": [
    "esavi_data_filtrado.columns"
   ]
  },
  {
   "cell_type": "markdown",
   "metadata": {
    "application/vnd.databricks.v1+cell": {
     "cellMetadata": {
      "byteLimit": 2048000,
      "rowLimit": 10000
     },
     "inputWidgets": {},
     "nuid": "37910ecb-364b-4dc6-a633-31b14f9ad2a7",
     "showTitle": false,
     "tableResultSettingsMap": {},
     "title": ""
    }
   },
   "source": [
    "## Modelagem do banco de Dados\n",
    "\n",
    "### Modelo Conceitual\n",
    "Analisando a base de dados podemos definir como entidades:\n",
    "- Evento: aspectos relacionados à ocorrência de evento adverso, gravidade e conclusão da investigação.\n",
    "    - nu_notificacao (primary key),dt_notificacao, dt_recebimento_notificacao,ds_situacao_notificacao, dt_desfecho, ds_atendimento_medico, dt_investigacao, ds_evolucao_caso, ds_evento_adverso, ds_casualidade, ds_conduta, ds_diagnostico, dt_encerramento,ds_encerramento_grave,ds_tipo_encerramento, ds_class_gravidade_ea, ds_reacao_ea, ds_dia_duracao_ea \n",
    "- Vacinas: vacina e outros medicamentos registrados como possiveis motivadores do evento adverso.\n",
    "    - ds_nome_fabricante, ds_estrategia_imuno, dt_aplicacao_imuno, ds_relacao_imuno, ds_lote_imuno, ds_dose_imuno, ds_imuno, co_imuno\n",
    "- Medicamentos:\n",
    "    - ds_medicamento_uso, ds_relacao_medicamento, ds_medicamento\n",
    "- Paciente: dados demograficos do paciente que teve o efeito adverso registrado\n",
    "    - ds_sexo, nu_mes_gestante, ds_mulher_amamentando, ds_profissional_seguranca,ds_estrangeiro,st_comunidade_tradicional, ds_raca_cor_mae, ds_gestante, nu_idade, ds_raca_cor, ds_profissional_saude,ds_doencas_pre_existentes\n",
    "- Localidade: dados da unidade de saude e localidade.\n",
    "    - no_estado, no_municipio, no_mun_notificacao,no_estado_notificacao, ds_tipo_atendimento"
   ]
  },
  {
   "cell_type": "code",
   "execution_count": 0,
   "metadata": {
    "application/vnd.databricks.v1+cell": {
     "cellMetadata": {
      "byteLimit": 2048000,
      "rowLimit": 10000
     },
     "inputWidgets": {},
     "nuid": "0c7850b0-9798-40f5-afbe-9a1731c7506b",
     "showTitle": false,
     "tableResultSettingsMap": {},
     "title": ""
    }
   },
   "outputs": [
    {
     "output_type": "stream",
     "name": "stdout",
     "output_type": "stream",
     "text": [
      "Diagrama salvo em: /dbfs/FileStore/shared_uploads/melo.katiaselene@gmail.com/modelo_conceitual_esavi.png\n"
     ]
    }
   ],
   "source": [
    "\n",
    "# Cria o grafo\n",
    "dot = Digraph(comment='Modelo Conceitual ESAVI')\n",
    "\n",
    "# Entidades\n",
    "dot.node('Evento', 'Evento')\n",
    "dot.node('Vacina', 'Vacina')\n",
    "dot.node('Medicamento', 'Medicamento')\n",
    "dot.node('Paciente', 'Paciente')\n",
    "dot.node('Localidade', 'Localidade')\n",
    "\n",
    "# Relacionamentos\n",
    "dot.edge('Evento', 'Vacina', label='1:N')\n",
    "dot.edge('Evento', 'Medicamento', label='1:N')\n",
    "dot.edge('Evento', 'Paciente', label='1:1')\n",
    "dot.edge('Evento', 'Localidade', label='1:1')\n",
    "\n",
    "# Caminho completo no DBFS\n",
    "output_path = \"/dbfs/FileStore/shared_uploads/melo.katiaselene@gmail.com/modelo_conceitual_esavi\"\n",
    "\n",
    "# Renderiza o diagrama\n",
    "dot.render(output_path, format='png', cleanup=True)\n",
    "\n",
    "print(\"Diagrama salvo em:\", output_path + \".png\")\n"
   ]
  },
  {
   "cell_type": "code",
   "execution_count": 0,
   "metadata": {
    "application/vnd.databricks.v1+cell": {
     "cellMetadata": {
      "byteLimit": 2048000,
      "rowLimit": 10000
     },
     "inputWidgets": {},
     "nuid": "54f65837-d81f-46dd-820c-34e59d4f668f",
     "showTitle": false,
     "tableResultSettingsMap": {},
     "title": ""
    }
   },
   "outputs": [
    {
     "output_type": "display_data",
     "data": {
      "image/png": "[encoded data removed]"
     },
     "metadata": {
      "application/vnd.databricks.v1+output": {
       "addedWidgets": {},
       "arguments": {},
       "data": "data:image/png;base64,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\n",
       "datasetInfos": [],
       "metadata": {},
       "removedWidgets": [],
       "type": "image"
      }
     },
     "output_type": "display_data"
    }
   ],
   "source": [
    "\n",
    "display(Image(\"/dbfs/FileStore/shared_uploads/melo.katiaselene@gmail.com/modelo_conceitual_esavi.png\"))\n"
   ]
  },
  {
   "cell_type": "markdown",
   "metadata": {
    "application/vnd.databricks.v1+cell": {
     "cellMetadata": {
      "byteLimit": 2048000,
      "rowLimit": 10000
     },
     "inputWidgets": {},
     "nuid": "6f6204aa-ec2a-4196-b0b1-81d7495cefe9",
     "showTitle": false,
     "tableResultSettingsMap": {},
     "title": ""
    }
   },
   "source": [
    "### Modelo lógico\n",
    "\n",
    "Agora que criamos o modelo teórico vamos definir o modelo lógico com base nas colunas que definimos acima."
   ]
  },
  {
   "cell_type": "code",
   "execution_count": 0,
   "metadata": {
    "application/vnd.databricks.v1+cell": {
     "cellMetadata": {
      "byteLimit": 2048000,
      "rowLimit": 10000
     },
     "inputWidgets": {},
     "nuid": "fe3fda70-bc99-4b5a-8fea-0342a37d8b0a",
     "showTitle": false,
     "tableResultSettingsMap": {},
     "title": ""
    }
   },
   "outputs": [
    {
     "output_type": "stream",
     "name": "stdout",
     "output_type": "stream",
     "text": [
      "Out[22]: DataFrame[]"
     ]
    }
   ],
   "source": [
    "spark.sql(\"CREATE DATABASE IF NOT EXISTS katiamelo_mvp_engenharia_dados\")\n",
    "spark.sql(\"USE katiamelo_mvp_engenharia_dados\")\n"
   ]
  },
  {
   "cell_type": "code",
   "execution_count": 0,
   "metadata": {
    "application/vnd.databricks.v1+cell": {
     "cellMetadata": {
      "byteLimit": 2048000,
      "rowLimit": 10000
     },
     "inputWidgets": {},
     "nuid": "32f9b044-ecf8-4392-8d87-d78ddf9504b5",
     "showTitle": false,
     "tableResultSettingsMap": {},
     "title": ""
    }
   },
   "outputs": [
    {
     "output_type": "stream",
     "name": "stdout",
     "output_type": "stream",
     "text": [
      "Out[23]: DataFrame[]"
     ]
    }
   ],
   "source": [
    "# Tabela Evento\n",
    "spark.sql(\"\"\"\n",
    "CREATE TABLE IF NOT EXISTS evento (\n",
    "    nu_notificacao STRING,\n",
    "    dt_notificacao DATE,\n",
    "    dt_recebimento_notificacao DATE,\n",
    "    ds_situacao_notificacao STRING,\n",
    "    dt_desfecho DATE,\n",
    "    ds_atendimento_medico STRING,\n",
    "    dt_investigacao DATE,\n",
    "    ds_evolucao_caso STRING,\n",
    "    ds_evento_adverso STRING,\n",
    "    ds_casualidade STRING,\n",
    "    ds_conduta STRING,\n",
    "    ds_diagnostico STRING,\n",
    "    dt_encerramento DATE,\n",
    "    ds_encerramento_grave STRING,\n",
    "    ds_tipo_encerramento STRING,\n",
    "    ds_class_gravidade_ea STRING,\n",
    "    ds_reacao_ea STRING,\n",
    "    ds_dia_duracao_ea INT\n",
    ")\n",
    "USING DELTA\n",
    "\"\"\")\n",
    "\n",
    "# Tabela Vacina\n",
    "spark.sql(\"\"\"\n",
    "CREATE TABLE IF NOT EXISTS vacina (\n",
    "    nu_notificacao STRING,\n",
    "    ds_nome_fabricante STRING,\n",
    "    ds_estrategia_imuno STRING,\n",
    "    dt_aplicacao_imuno DATE,\n",
    "    ds_relacao_imuno STRING,\n",
    "    ds_lote_imuno STRING,\n",
    "    ds_dose_imuno STRING,\n",
    "    ds_imuno STRING,\n",
    "    co_imuno STRING\n",
    ")\n",
    "USING DELTA\n",
    "\"\"\")\n",
    "\n",
    "# Tabela Medicamento\n",
    "spark.sql(\"\"\"\n",
    "CREATE TABLE IF NOT EXISTS medicamento (\n",
    "    nu_notificacao STRING,\n",
    "    ds_medicamento_uso STRING,\n",
    "    ds_relacao_medicamento STRING,\n",
    "    ds_medicamento STRING\n",
    ")\n",
    "USING DELTA\n",
    "\"\"\")\n",
    "\n",
    "# Tabela Paciente\n",
    "spark.sql(\"\"\"\n",
    "CREATE TABLE IF NOT EXISTS paciente (\n",
    "    nu_notificacao STRING,\n",
    "    ds_sexo STRING,\n",
    "    nu_mes_gestante INT,\n",
    "    ds_mulher_amamentando STRING,\n",
    "    ds_profissional_seguranca STRING,\n",
    "    ds_estrangeiro STRING,\n",
    "    st_comunidade_tradicional STRING,\n",
    "    ds_raca_cor_mae STRING,\n",
    "    ds_gestante STRING,\n",
    "    nu_idade INT,\n",
    "    ds_raca_cor STRING,\n",
    "    ds_profissional_saude STRING,\n",
    "    ds_doencas_pre_existentes STRING\n",
    ")\n",
    "USING DELTA\n",
    "\"\"\")\n",
    "\n",
    "# Tabela Localidade\n",
    "spark.sql(\"\"\"\n",
    "CREATE TABLE IF NOT EXISTS localidade (\n",
    "    nu_notificacao STRING,\n",
    "    no_estado STRING,\n",
    "    no_municipio STRING,\n",
    "    no_mun_notificacao STRING,\n",
    "    no_estado_notificacao STRING,\n",
    "    ds_tipo_atendimento STRING\n",
    ")\n",
    "USING DELTA\n",
    "\"\"\")\n"
   ]
  },
  {
   "cell_type": "code",
   "execution_count": 0,
   "metadata": {
    "application/vnd.databricks.v1+cell": {
     "cellMetadata": {
      "byteLimit": 2048000,
      "rowLimit": 10000
     },
     "inputWidgets": {},
     "nuid": "03be5340-da8b-4840-babc-b13bc80a8806",
     "showTitle": false,
     "tableResultSettingsMap": {},
     "title": ""
    }
   },
   "outputs": [
    {
     "output_type": "stream",
     "name": "stdout",
     "output_type": "stream",
     "text": [
      "+------------------------------+-----------+-----------+\n|database                      |tableName  |isTemporary|\n+------------------------------+-----------+-----------+\n|katiamelo_mvp_engenharia_dados|evento     |false      |\n|katiamelo_mvp_engenharia_dados|localidade |false      |\n|katiamelo_mvp_engenharia_dados|medicamento|false      |\n|katiamelo_mvp_engenharia_dados|paciente   |false      |\n|katiamelo_mvp_engenharia_dados|pessoa     |false      |\n|katiamelo_mvp_engenharia_dados|vacina     |false      |\n+------------------------------+-----------+-----------+\n\n"
     ]
    }
   ],
   "source": [
    "#checando se as tabelas foram criadas\n",
    "spark.sql(\"SHOW TABLES\").show(truncate=False)\n"
   ]
  },
  {
   "cell_type": "code",
   "execution_count": 0,
   "metadata": {
    "application/vnd.databricks.v1+cell": {
     "cellMetadata": {
      "byteLimit": 2048000,
      "rowLimit": 10000
     },
     "inputWidgets": {},
     "nuid": "1e5e1942-131f-4226-afe4-1996223e303d",
     "showTitle": false,
     "tableResultSettingsMap": {},
     "title": ""
    }
   },
   "outputs": [],
   "source": [
    "#preparando o arquivo para fazer o carregamento nas tabelas\n",
    "esavi_spark = spark.createDataFrame(esavi_data_filtrado)\n"
   ]
  },
  {
   "cell_type": "markdown",
   "metadata": {
    "application/vnd.databricks.v1+cell": {
     "cellMetadata": {
      "byteLimit": 2048000,
      "rowLimit": 10000
     },
     "inputWidgets": {},
     "nuid": "9abe5299-f1f2-4ccd-8e1c-94eb8dda21d0",
     "showTitle": false,
     "tableResultSettingsMap": {},
     "title": ""
    }
   },
   "source": [
    "Agora vamos adicionar os dados esavi nas tabelas criadas"
   ]
  },
  {
   "cell_type": "code",
   "execution_count": 0,
   "metadata": {
    "application/vnd.databricks.v1+cell": {
     "cellMetadata": {
      "byteLimit": 2048000,
      "rowLimit": 10000
     },
     "inputWidgets": {},
     "nuid": "4c8209f0-dc8c-41f7-84e9-723aaf422bcc",
     "showTitle": false,
     "tableResultSettingsMap": {},
     "title": ""
    }
   },
   "outputs": [],
   "source": [
    "# Salvando dados na tabela evento\n",
    "evento_cols = [\n",
    "    \"nu_notificacao\", \"dt_notificacao\", \"dt_recebimento_notificacao\",\n",
    "    \"ds_situacao_notificacao\", \"dt_desfecho\", \"ds_atendimento_medico\",\n",
    "    \"dt_investigacao\", \"ds_evolucao_caso\", \"ds_evento_adverso\",\n",
    "    \"ds_casualidade\", \"ds_conduta\", \"ds_diagnostico\", \"dt_encerramento\",\n",
    "    \"ds_encerramento_grave\", \"ds_tipo_encerramento\", \"ds_class_gravidade_ea\",\n",
    "    \"ds_reacao_ea\", \"ds_dia_duracao_ea\"\n",
    "]\n",
    "evento_df = esavi_spark.select(evento_cols)\n",
    "evento_df.write.format(\"delta\").mode(\"overwrite\").option(\"overwriteSchema\", \"true\").saveAsTable(\"evento\")\n"
   ]
  },
  {
   "cell_type": "code",
   "execution_count": 0,
   "metadata": {
    "application/vnd.databricks.v1+cell": {
     "cellMetadata": {
      "byteLimit": 2048000,
      "rowLimit": 10000
     },
     "inputWidgets": {},
     "nuid": "13c4bbf1-8a08-46bd-8787-acf53518cd1d",
     "showTitle": false,
     "tableResultSettingsMap": {},
     "title": ""
    }
   },
   "outputs": [
    {
     "output_type": "stream",
     "name": "stdout",
     "output_type": "stream",
     "text": [
      "+--------------------+--------------+--------------------------+-----------------------+-----------+---------------------+---------------+-----------------+--------------------+--------------------+---------------+--------------------+----------------+---------------------+--------------------+---------------------+--------------------+-----------------+\n|      nu_notificacao|dt_notificacao|dt_recebimento_notificacao|ds_situacao_notificacao|dt_desfecho|ds_atendimento_medico|dt_investigacao| ds_evolucao_caso|   ds_evento_adverso|      ds_casualidade|     ds_conduta|      ds_diagnostico| dt_encerramento|ds_encerramento_grave|ds_tipo_encerramento|ds_class_gravidade_ea|        ds_reacao_ea|ds_dia_duracao_ea|\n+--------------------+--------------+--------------------------+-----------------------+-----------+---------------------+---------------+-----------------+--------------------+--------------------+---------------+--------------------+----------------+---------------------+--------------------+---------------------+--------------------+-----------------+\n|000029813c6eaf176...|      30082022|                      null|              Encerrado|       null|                 null|           null|             null|                null|                null|           null|                null|            null|                  Nao|            ESTADUAL|            Nao grave|Administracao de ...|             null|\n|00002e19248fa7b5b...|      07052021|                      null|              Encerrado|       null|                 null|           null|             null|                null|                null|           null|                null|            null|                  Nao|            ESTADUAL| Nao graveNao grav...|     FebreFebreFebre|             null|\n|000100a041871c0fc...|      17042023|                  25042023|              Encerrado|       null|                  Nao|       25042023|             null|                null|                null|           null|Y590  Efeitos adv...|            null|                  Nao|           MUNICIPAL| Nao graveNao grav...|CefaleiaCefaleiaC...|             null|\n|00011568703295ff7...|      08042021|                  08042021|              Encerrado|   04052021|                  Sim|       08052021|Cura sem sequelas|Dor de garganta N...|A1 Reacoes ineren...|Esquema Mantido|Y598  Efeitos adv...|0405202104052021|               NaoNao|   MUNICIPALESTADUAL| Nao graveNao grav...|  NauseaNauseaNausea|             null|\n|00015c8d041ffe81d...|      26072022|                      null|              Encerrado|       null|                 null|           null|             null|                null|                null|           null|                null|            null|                  Nao|            ESTADUAL|                 null|Vacina de baixa q...|             null|\n|000195e41cde75a23...|      21042021|                  21042021|              Encerrado|   30042021|                  Nao|       30042021|Cura sem sequelas|Dormencia Dor loc...|A1 Reacoes ineren...|Esquema Mantido|     R520  Dor aguda|        30042021|                  Nao|           MUNICIPAL| Nao graveNao grav...|Dor localizadaDor...|             null|\n|00019e5a1fbf5215e...|      11042023|                  11042023|              Encerrado|       null|                  Sim|       11042023|             null|                null|                null|           null|H54  Cegueira e v...|            null|                  Sim|            ESTADUAL|   Nao graveNao grave|Visao turvaVisao ...|             null|\n|0001b77aaa03b03aa...|      08022021|                      null|              Encerrado|       null|                  Nao|       08022021|             null|                null|                null|           null|R509  Febre nao e...|            null|                  Nao|            ESTADUAL| Nao graveNao grav...|Dor de gargantaDo...|             null|\n|0001b9499e6639fb1...|      07072023|                      null|              Encerrado|       null|                 null|           null|             null|                null|                null|           null|                null|            null|                  Nao|            ESTADUAL|            Nao grave|Utilizacao de vac...|             null|\n|0001c6aa1612e0e71...|      05042022|                  05042022|           Em Avaliacao|       null|                  Nao|       05042022|             null|                null|                null|           null|Y599  Efeitos adv...|            null|                 null|                null| Nao graveNao grav...|PruridoPruridoPru...|             null|\n+--------------------+--------------+--------------------------+-----------------------+-----------+---------------------+---------------+-----------------+--------------------+--------------------+---------------+--------------------+----------------+---------------------+--------------------+---------------------+--------------------+-----------------+\n\n"
     ]
    }
   ],
   "source": [
    "# checando se os dados foram armazenados corretamente\n",
    "spark.sql(\"SELECT * FROM evento LIMIT 10\").show()"
   ]
  },
  {
   "cell_type": "code",
   "execution_count": 0,
   "metadata": {
    "application/vnd.databricks.v1+cell": {
     "cellMetadata": {
      "byteLimit": 2048000,
      "rowLimit": 10000
     },
     "inputWidgets": {},
     "nuid": "42daf44c-1686-43df-95fb-4f65ce8ae4ce",
     "showTitle": false,
     "tableResultSettingsMap": {},
     "title": ""
    }
   },
   "outputs": [],
   "source": [
    "# Salvando dados na tabela vacina\n",
    "vacina_cols = [\n",
    "    \"nu_notificacao\", \"ds_nome_fabricante\", \"ds_estrategia_imuno\",\n",
    "    \"dt_aplicacao_imuno\", \"ds_relacao_imuno\", \"ds_lote_imuno\",\n",
    "    \"ds_dose_imuno\", \"ds_imuno\", \"co_imuno\"\n",
    "]\n",
    "vacina_df = esavi_spark.select(vacina_cols)\n",
    "vacina_df.write.format(\"delta\").mode(\"overwrite\").option(\"overwriteSchema\", \"true\").saveAsTable(\"vacina\")\n"
   ]
  },
  {
   "cell_type": "code",
   "execution_count": 0,
   "metadata": {
    "application/vnd.databricks.v1+cell": {
     "cellMetadata": {
      "byteLimit": 2048000,
      "rowLimit": 10000
     },
     "inputWidgets": {},
     "nuid": "decbca6d-c7ea-4685-b330-ce674c0ff9c8",
     "showTitle": false,
     "tableResultSettingsMap": {},
     "title": ""
    }
   },
   "outputs": [
    {
     "output_type": "stream",
     "name": "stdout",
     "output_type": "stream",
     "text": [
      "+--------------------+--------------------+--------------------+--------------------+--------------------+--------------------+--------------------+--------------------+--------+\n|      nu_notificacao|  ds_nome_fabricante| ds_estrategia_imuno|  dt_aplicacao_imuno|    ds_relacao_imuno|       ds_lote_imuno|       ds_dose_imuno|            ds_imuno|co_imuno|\n+--------------------+--------------------+--------------------+--------------------+--------------------+--------------------+--------------------+--------------------+--------+\n|000029813c6eaf176...|PFIZERPFIZERPFIZE...|Campanha indiscri...|14072021021020212...|SuspeitoSuspeitoS...|FA909531045BDFP70...|1a Dose2a DoseRef...|COVID19 PFIZER  C...|87878787|\n|00002e19248fa7b5b...|             fiocruz|      Intensificacao|            06052021|            Suspeito|          213vcd035w|         D1  1a Dose|Covid19Covishield...|      85|\n|000100a041871c0fc...|            BAVARIAN|              Rotina|            11042023|            Suspeito|            FD800068|         D1  1a Dose|Vacina Variola Ba...|     100|\n|00011568703295ff7...|            BUTANTAN|                null|            01042021|            Suspeito|              210040|         D2  2a Dose|Covid19CoronavacS...|      86|\n|00015c8d041ffe81d...| PFIZERPFIZERBELGICA|                null|    2611202126072022|    SuspeitoSuspeito|          FM38097082|  2a DoseD3  3a Dose|COVID19 PFIZER  C...|    8787|\n|000195e41cde75a23...|             FIOCRUZ|              Rotina|            20042021|        Concomitante|          213VCD028W|         D1  1a Dose|Covid19Covishield...|      85|\n|00019e5a1fbf5215e...|              PFIZER|            Especial|            11042023|    SuspeitoSuspeito|     GJ5106A70CD601A|  ReforcoD1  1a Dose|COVID19 PFIZER  C...|   10334|\n|0001b77aaa03b03aa...|             FIOCRUZ|            Especial|            27012021|            Suspeito|            4120Z005|         D1  1a Dose|Vacina Covid19rec...|      85|\n|0001b9499e6639fb1...|              PFIZER|                null|            05072023|            Suspeito|              GP9809|         D1  1a Dose|Vacina COVID19 PF...|     102|\n|0001c6aa1612e0e71...|ASTRAZENECASINOVA...|   Campanha seletiva|01042022250920212...|SuspeitoSuspeitoS...|210VCD30622103782...|REF  Reforco2a Do...|Vacina Covid19rec...|  858686|\n+--------------------+--------------------+--------------------+--------------------+--------------------+--------------------+--------------------+--------------------+--------+\n\n"
     ]
    }
   ],
   "source": [
    "# checando se os dados foram armazenados corretamente\n",
    "spark.sql(\"SELECT * FROM vacina LIMIT 10\").show()"
   ]
  },
  {
   "cell_type": "code",
   "execution_count": 0,
   "metadata": {
    "application/vnd.databricks.v1+cell": {
     "cellMetadata": {
      "byteLimit": 2048000,
      "rowLimit": 10000
     },
     "inputWidgets": {},
     "nuid": "f0af1f6b-b1ec-4aae-b0f1-b05c66e94462",
     "showTitle": false,
     "tableResultSettingsMap": {},
     "title": ""
    }
   },
   "outputs": [],
   "source": [
    "# Salvando dados na tabela vacina\n",
    "medicamento_cols = [\n",
    "    \"nu_notificacao\", \"ds_medicamento_uso\", \"ds_relacao_medicamento\", \"ds_medicamento\"\n",
    "]\n",
    "medicamento_df = esavi_spark.select(medicamento_cols)\n",
    "medicamento_df.write.format(\"delta\").mode(\"overwrite\").option(\"overwriteSchema\", \"true\").saveAsTable(\"medicamento\")\n"
   ]
  },
  {
   "cell_type": "code",
   "execution_count": 0,
   "metadata": {
    "application/vnd.databricks.v1+cell": {
     "cellMetadata": {
      "byteLimit": 2048000,
      "rowLimit": 10000
     },
     "inputWidgets": {},
     "nuid": "ed53f2e4-4265-4e09-9536-eaa1587d1a33",
     "showTitle": false,
     "tableResultSettingsMap": {},
     "title": ""
    }
   },
   "outputs": [
    {
     "output_type": "stream",
     "name": "stdout",
     "output_type": "stream",
     "text": [
      "+--------------------+------------------+----------------------+--------------+\n|      nu_notificacao|ds_medicamento_uso|ds_relacao_medicamento|ds_medicamento|\n+--------------------+------------------+----------------------+--------------+\n|000029813c6eaf176...|              null|                  null|          null|\n|00002e19248fa7b5b...|              null|                  null|          null|\n|000100a041871c0fc...|               Nao|                  null|          null|\n|00011568703295ff7...|               Nao|                  null|          null|\n|00015c8d041ffe81d...|              null|                  null|          null|\n|000195e41cde75a23...|               Nao|                  null|          null|\n|00019e5a1fbf5215e...|               Nao|                  null|          null|\n|0001b77aaa03b03aa...|               Sim|          Concomitante|       ALENTUS|\n|0001b9499e6639fb1...|              null|                  null|          null|\n|0001c6aa1612e0e71...|               Nao|                  null|          null|\n+--------------------+------------------+----------------------+--------------+\n\n"
     ]
    }
   ],
   "source": [
    "# checando se os dados foram armazenados corretamente\n",
    "spark.sql(\"SELECT * FROM medicamento LIMIT 10\").show()"
   ]
  },
  {
   "cell_type": "code",
   "execution_count": 0,
   "metadata": {
    "application/vnd.databricks.v1+cell": {
     "cellMetadata": {
      "byteLimit": 2048000,
      "rowLimit": 10000
     },
     "inputWidgets": {},
     "nuid": "9c929377-9a11-4f57-b888-65bf647f2ada",
     "showTitle": false,
     "tableResultSettingsMap": {},
     "title": ""
    }
   },
   "outputs": [],
   "source": [
    "paciente_cols = [\n",
    "    \"nu_notificacao\", \"ds_sexo\", \"nu_mes_gestante\", \"ds_mulher_amamentando\",\n",
    "    \"ds_profissional_seguranca\", \"ds_estrangeiro\", \"st_comunidade_tradicional\",\n",
    "    \"ds_raca_cor_mae\", \"ds_gestante\", \"nu_idade\", \"ds_raca_cor\",\n",
    "    \"ds_profissional_saude\", \"ds_doencas_pre_existentes\"\n",
    "]\n",
    "paciente_df = esavi_spark.select(paciente_cols)\n",
    "paciente_df.write.format(\"delta\").mode(\"overwrite\").option(\"overwriteSchema\", \"true\").saveAsTable(\"paciente\")\n"
   ]
  },
  {
   "cell_type": "code",
   "execution_count": 0,
   "metadata": {
    "application/vnd.databricks.v1+cell": {
     "cellMetadata": {
      "byteLimit": 2048000,
      "rowLimit": 10000
     },
     "inputWidgets": {},
     "nuid": "da9ab2f0-134c-4d05-a4fe-fd7c0c01cba2",
     "showTitle": false,
     "tableResultSettingsMap": {},
     "title": ""
    }
   },
   "outputs": [
    {
     "output_type": "stream",
     "name": "stdout",
     "output_type": "stream",
     "text": [
      "+--------------------+---------+---------------+---------------------+-------------------------+--------------+-------------------------+---------------+-----------+--------+-----------+---------------------+-------------------------+\n|      nu_notificacao|  ds_sexo|nu_mes_gestante|ds_mulher_amamentando|ds_profissional_seguranca|ds_estrangeiro|st_comunidade_tradicional|ds_raca_cor_mae|ds_gestante|nu_idade|ds_raca_cor|ds_profissional_saude|ds_doencas_pre_existentes|\n+--------------------+---------+---------------+---------------------+-------------------------+--------------+-------------------------+---------------+-----------+--------+-----------+---------------------+-------------------------+\n|000029813c6eaf176...|Masculino|           null|                 null|                      Nao|          null|                      Nao|           null|       null|    36.0|   Ignorado|                  Nao|                     null|\n|00002e19248fa7b5b...| Feminino|              5|                  Nao|                      Nao|          null|                      Nao|           null|        Sim|    44.0|     Branca|                  Nao|                     null|\n|000100a041871c0fc...| Feminino|           null|                  Nao|                      Nao|          null|                      Nao|           null|        Nao|    23.0|      Parda|                  Sim|     T784  Alergia nao...|\n|00011568703295ff7...|Masculino|           null|                 null|                      Nao|          null|                      Nao|           null|       null|    82.0|   Ignorado|                  Nao|                     null|\n|00015c8d041ffe81d...|Masculino|           null|                 null|                      Nao|          null|                      Nao|           null|       null|    15.0|     Branca|                  Nao|                     null|\n|000195e41cde75a23...| Feminino|           null|                  Nao|                      Nao|          null|                      Nao|           null|   Ignorado|    66.0|      Parda|                  Nao|          R520  Dor aguda|\n|00019e5a1fbf5215e...| Feminino|           null|                  Nao|                      Nao|          null|                      Nao|           null|        Nao|    38.0|      Parda|                  Sim|                     null|\n|0001b77aaa03b03aa...| Feminino|           null|                  Nao|                      Nao|          null|                      Nao|           null|        Nao|    32.0|     Branca|                  Sim|           G43  Enxaqueca|\n|0001b9499e6639fb1...|Masculino|           null|                 null|                      Nao|          null|                      Nao|           null|       null|     1.0|     Branca|                  Nao|                     null|\n|0001c6aa1612e0e71...| Feminino|           null|                  Nao|                      Nao|          null|                      Nao|           null|        Nao|    25.0|      Preta|                  Nao|                     null|\n+--------------------+---------+---------------+---------------------+-------------------------+--------------+-------------------------+---------------+-----------+--------+-----------+---------------------+-------------------------+\n\n"
     ]
    }
   ],
   "source": [
    "# checando se os dados foram armazenados corretamente\n",
    "spark.sql(\"SELECT * FROM paciente LIMIT 10\").show()"
   ]
  },
  {
   "cell_type": "code",
   "execution_count": 0,
   "metadata": {
    "application/vnd.databricks.v1+cell": {
     "cellMetadata": {
      "byteLimit": 2048000,
      "rowLimit": 10000
     },
     "inputWidgets": {},
     "nuid": "2530ab68-cc4e-4380-8299-a82dd10daa7d",
     "showTitle": false,
     "tableResultSettingsMap": {},
     "title": ""
    }
   },
   "outputs": [],
   "source": [
    "localidade_cols = [\n",
    "    \"nu_notificacao\", \"no_estado\", \"no_municipio\", \n",
    "    \"no_mun_notificacao\", \"no_estado_notificacao\", \"ds_tipo_atendimento\"\n",
    "]\n",
    "localidade_df = esavi_spark.select(localidade_cols)\n",
    "localidade_df.write.format(\"delta\").mode(\"overwrite\").option(\"overwriteSchema\", \"true\").saveAsTable(\"localidade\")\n"
   ]
  },
  {
   "cell_type": "code",
   "execution_count": 0,
   "metadata": {
    "application/vnd.databricks.v1+cell": {
     "cellMetadata": {
      "byteLimit": 2048000,
      "rowLimit": 10000
     },
     "inputWidgets": {},
     "nuid": "0cbbc465-1ae7-4b91-a234-7133e1f177cd",
     "showTitle": false,
     "tableResultSettingsMap": {},
     "title": ""
    }
   },
   "outputs": [
    {
     "output_type": "stream",
     "name": "stdout",
     "output_type": "stream",
     "text": [
      "+--------------------+-----------------+--------------------+--------------------+---------------------+--------------------+\n|      nu_notificacao|        no_estado|        no_municipio|  no_mun_notificacao|no_estado_notificacao| ds_tipo_atendimento|\n+--------------------+-----------------+--------------------+--------------------+---------------------+--------------------+\n|000029813c6eaf176...|     Minas Gerais|             Araujos|             Araujos|         Minas Gerais|                null|\n|00002e19248fa7b5b...|   Espirito Santo|Venda Nova do Imi...|Venda Nova do Imi...|       Espirito Santo|                null|\n|000100a041871c0fc...|             Para|               Belem|               Belem|                 Para|                null|\n|00011568703295ff7...|           Parana|           Guaratuba|           Guaratuba|               Parana|Ambulatorioconsul...|\n|00015c8d041ffe81d...|     Minas Gerais|      Belo Horizonte|      Belo Horizonte|         Minas Gerais|                null|\n|000195e41cde75a23...|     Minas Gerais|         Bom Sucesso|         Bom Sucesso|         Minas Gerais|                null|\n|00019e5a1fbf5215e...|      Mato Grosso|  Primavera do Leste|  Primavera do Leste|          Mato Grosso|Observacao perman...|\n|0001b77aaa03b03aa...|Rio Grande do Sul|         Passo Fundo|         Passo Fundo|    Rio Grande do Sul|                null|\n|0001b9499e6639fb1...|        Sao Paulo|             Olimpia|             Olimpia|            Sao Paulo|                null|\n|0001c6aa1612e0e71...|     Minas Gerais|          Nepomuceno|          Nepomuceno|         Minas Gerais|                null|\n+--------------------+-----------------+--------------------+--------------------+---------------------+--------------------+\n\n"
     ]
    }
   ],
   "source": [
    "# checando se os dados foram armazenados corretamente\n",
    "spark.sql(\"SELECT * FROM localidade LIMIT 10\").show()"
   ]
  },
  {
   "cell_type": "markdown",
   "metadata": {
    "application/vnd.databricks.v1+cell": {
     "cellMetadata": {
      "byteLimit": 2048000,
      "rowLimit": 10000
     },
     "inputWidgets": {},
     "nuid": "a4045483-7a7a-4c7e-a809-184131efd5ff",
     "showTitle": false,
     "tableResultSettingsMap": {},
     "title": ""
    }
   },
   "source": [
    "### Analise de Dados"
   ]
  },
  {
   "cell_type": "markdown",
   "metadata": {
    "application/vnd.databricks.v1+cell": {
     "cellMetadata": {
      "byteLimit": 2048000,
      "rowLimit": 10000
     },
     "inputWidgets": {},
     "nuid": "c83f0c5f-7a56-4800-9201-5cd6aadec464",
     "showTitle": false,
     "tableResultSettingsMap": {},
     "title": ""
    }
   },
   "source": [
    "Como há uma limitação de tempo para a execução dessa investigação responderemos apenas algumas perguntas básicas:\n",
    "- **Qual o volume de casos de reações adversas anual?**\n",
    "- **Qual o tipo de evento adverso**?\n",
    "- **Qual o imuno mais teve evento adverso?** \n",
    "- **Do volume de eventos adversos anuais quantos foram graves?**\n",
    "- **Os eventos graves envolviam doenças pre existentes?**\n",
    "- **Qual a prevalência de casos entre os sexos?**\n",
    "- **Qual a prevalência de casos entre as raças?**\n",
    "- **Qual a conduta adotada para os casos?**\n",
    "- **Qual foi o diagnotisco dos casos?**\n",
    "\n",
    "Há diversas outras perguntas que poderiam ser respondidas com os dados, vamos nos concentrar nessas mais simples por ora, considerando que o escopo do MVP não é um aprofundamento muito grande nas análises de dados."
   ]
  },
  {
   "cell_type": "markdown",
   "metadata": {
    "application/vnd.databricks.v1+cell": {
     "cellMetadata": {
      "byteLimit": 2048000,
      "rowLimit": 10000
     },
     "inputWidgets": {},
     "nuid": "3957f6cb-ddf1-45f0-ad6a-80479c73c441",
     "showTitle": false,
     "tableResultSettingsMap": {},
     "title": ""
    }
   },
   "source": [
    "**Qual o volume de casos de reações adversas anual?**\n",
    "\n",
    "Como podemos observar abaixo os eventos adversos relacionados a vacinação são bastante raros. Aumentou consideravelmente no período pós pandemia, o que pode estar influenciado por fatores como: (1) desconfiança da população em relação a vacina da covid-19 bem como ao fato de que a vacinação foi emergencial dado as características da pandemia.\n",
    "\n",
    "Vamos investigar especificamente os últimos anos de 2021-2024 e verificar quais foram os tipos de eventos adversos e sua gravidade."
   ]
  },
  {
   "cell_type": "code",
   "execution_count": 0,
   "metadata": {
    "application/vnd.databricks.v1+cell": {
     "cellMetadata": {
      "byteLimit": 2048000,
      "implicitDf": true,
      "rowLimit": 10000
     },
     "inputWidgets": {},
     "nuid": "35126202-8ce7-49fb-a1cf-0feeed6a77ee",
     "showTitle": false,
     "tableResultSettingsMap": {},
     "title": ""
    }
   },
   "outputs": [
    {
     "output_type": "display_data",
     "data": {
      "text/html": [
       "<div>\n",
       "<style scoped>\n",
       "    .dataframe tbody tr th:only-of-type {\n",
       "        vertical-align: middle;\n",
       "    }\n",
       "\n",
       "    .dataframe tbody tr th {\n",
       "        vertical-align: top;\n",
       "    }\n",
       "\n",
       "    .dataframe thead th {\n",
       "        text-align: right;\n",
       "    }\n",
       "</style>\n",
       "<table border=\"1\" class=\"dataframe\">\n",
       "  <thead>\n",
       "    <tr style=\"text-align: right;\">\n",
       "      <th></th>\n",
       "      <th>ano</th>\n",
       "      <th>volume_casos</th>\n",
       "    </tr>\n",
       "  </thead>\n",
       "  <tbody>\n",
       "    <tr>\n",
       "      <th>0</th>\n",
       "      <td>2024.0</td>\n",
       "      <td>28061</td>\n",
       "    </tr>\n",
       "    <tr>\n",
       "      <th>1</th>\n",
       "      <td>2023.0</td>\n",
       "      <td>34374</td>\n",
       "    </tr>\n",
       "    <tr>\n",
       "      <th>2</th>\n",
       "      <td>2022.0</td>\n",
       "      <td>56759</td>\n",
       "    </tr>\n",
       "    <tr>\n",
       "      <th>3</th>\n",
       "      <td>2021.0</td>\n",
       "      <td>160383</td>\n",
       "    </tr>\n",
       "    <tr>\n",
       "      <th>4</th>\n",
       "      <td>2020.0</td>\n",
       "      <td>192</td>\n",
       "    </tr>\n",
       "    <tr>\n",
       "      <th>5</th>\n",
       "      <td>2019.0</td>\n",
       "      <td>73</td>\n",
       "    </tr>\n",
       "    <tr>\n",
       "      <th>6</th>\n",
       "      <td>2018.0</td>\n",
       "      <td>10</td>\n",
       "    </tr>\n",
       "    <tr>\n",
       "      <th>7</th>\n",
       "      <td>2017.0</td>\n",
       "      <td>3</td>\n",
       "    </tr>\n",
       "    <tr>\n",
       "      <th>8</th>\n",
       "      <td>2016.0</td>\n",
       "      <td>1</td>\n",
       "    </tr>\n",
       "    <tr>\n",
       "      <th>9</th>\n",
       "      <td>2015.0</td>\n",
       "      <td>1</td>\n",
       "    </tr>\n",
       "    <tr>\n",
       "      <th>10</th>\n",
       "      <td>2014.0</td>\n",
       "      <td>1</td>\n",
       "    </tr>\n",
       "    <tr>\n",
       "      <th>11</th>\n",
       "      <td>2012.0</td>\n",
       "      <td>5</td>\n",
       "    </tr>\n",
       "    <tr>\n",
       "      <th>12</th>\n",
       "      <td>2011.0</td>\n",
       "      <td>1</td>\n",
       "    </tr>\n",
       "    <tr>\n",
       "      <th>13</th>\n",
       "      <td>2010.0</td>\n",
       "      <td>2</td>\n",
       "    </tr>\n",
       "    <tr>\n",
       "      <th>14</th>\n",
       "      <td>2007.0</td>\n",
       "      <td>1</td>\n",
       "    </tr>\n",
       "    <tr>\n",
       "      <th>15</th>\n",
       "      <td>2005.0</td>\n",
       "      <td>2</td>\n",
       "    </tr>\n",
       "    <tr>\n",
       "      <th>16</th>\n",
       "      <td>2003.0</td>\n",
       "      <td>1</td>\n",
       "    </tr>\n",
       "    <tr>\n",
       "      <th>17</th>\n",
       "      <td>2002.0</td>\n",
       "      <td>2</td>\n",
       "    </tr>\n",
       "    <tr>\n",
       "      <th>18</th>\n",
       "      <td>2001.0</td>\n",
       "      <td>5</td>\n",
       "    </tr>\n",
       "    <tr>\n",
       "      <th>19</th>\n",
       "      <td>2000.0</td>\n",
       "      <td>3</td>\n",
       "    </tr>\n",
       "    <tr>\n",
       "      <th>20</th>\n",
       "      <td>1995.0</td>\n",
       "      <td>1</td>\n",
       "    </tr>\n",
       "    <tr>\n",
       "      <th>21</th>\n",
       "      <td>1994.0</td>\n",
       "      <td>1</td>\n",
       "    </tr>\n",
       "    <tr>\n",
       "      <th>22</th>\n",
       "      <td>1992.0</td>\n",
       "      <td>1</td>\n",
       "    </tr>\n",
       "    <tr>\n",
       "      <th>23</th>\n",
       "      <td>1990.0</td>\n",
       "      <td>1</td>\n",
       "    </tr>\n",
       "    <tr>\n",
       "      <th>24</th>\n",
       "      <td>1989.0</td>\n",
       "      <td>1</td>\n",
       "    </tr>\n",
       "    <tr>\n",
       "      <th>25</th>\n",
       "      <td>1984.0</td>\n",
       "      <td>3</td>\n",
       "    </tr>\n",
       "    <tr>\n",
       "      <th>26</th>\n",
       "      <td>1983.0</td>\n",
       "      <td>1</td>\n",
       "    </tr>\n",
       "    <tr>\n",
       "      <th>27</th>\n",
       "      <td>1982.0</td>\n",
       "      <td>1</td>\n",
       "    </tr>\n",
       "    <tr>\n",
       "      <th>28</th>\n",
       "      <td>1979.0</td>\n",
       "      <td>3</td>\n",
       "    </tr>\n",
       "    <tr>\n",
       "      <th>29</th>\n",
       "      <td>1978.0</td>\n",
       "      <td>1</td>\n",
       "    </tr>\n",
       "    <tr>\n",
       "      <th>30</th>\n",
       "      <td>1977.0</td>\n",
       "      <td>2</td>\n",
       "    </tr>\n",
       "    <tr>\n",
       "      <th>31</th>\n",
       "      <td>1974.0</td>\n",
       "      <td>1</td>\n",
       "    </tr>\n",
       "    <tr>\n",
       "      <th>32</th>\n",
       "      <td>1971.0</td>\n",
       "      <td>2</td>\n",
       "    </tr>\n",
       "    <tr>\n",
       "      <th>33</th>\n",
       "      <td>1966.0</td>\n",
       "      <td>2</td>\n",
       "    </tr>\n",
       "    <tr>\n",
       "      <th>34</th>\n",
       "      <td>1965.0</td>\n",
       "      <td>1</td>\n",
       "    </tr>\n",
       "    <tr>\n",
       "      <th>35</th>\n",
       "      <td>1958.0</td>\n",
       "      <td>1</td>\n",
       "    </tr>\n",
       "    <tr>\n",
       "      <th>36</th>\n",
       "      <td>1957.0</td>\n",
       "      <td>1</td>\n",
       "    </tr>\n",
       "    <tr>\n",
       "      <th>37</th>\n",
       "      <td>1956.0</td>\n",
       "      <td>1</td>\n",
       "    </tr>\n",
       "    <tr>\n",
       "      <th>38</th>\n",
       "      <td>1950.0</td>\n",
       "      <td>1</td>\n",
       "    </tr>\n",
       "    <tr>\n",
       "      <th>39</th>\n",
       "      <td>1943.0</td>\n",
       "      <td>1</td>\n",
       "    </tr>\n",
       "    <tr>\n",
       "      <th>40</th>\n",
       "      <td>1935.0</td>\n",
       "      <td>1</td>\n",
       "    </tr>\n",
       "    <tr>\n",
       "      <th>41</th>\n",
       "      <td>1921.0</td>\n",
       "      <td>11</td>\n",
       "    </tr>\n",
       "    <tr>\n",
       "      <th>42</th>\n",
       "      <td>NaN</td>\n",
       "      <td>2</td>\n",
       "    </tr>\n",
       "  </tbody>\n",
       "</table>\n",
       "</div>"
      ]
     },
     "metadata": {
      "application/vnd.databricks.v1+output": {
       "addedWidgets": {},
       "arguments": {},
       "data": "<div>\n<style scoped>\n    .dataframe tbody tr th:only-of-type {\n        vertical-align: middle;\n    }\n\n    .dataframe tbody tr th {\n        vertical-align: top;\n    }\n\n    .dataframe thead th {\n        text-align: right;\n    }\n</style>\n<table border=\"1\" class=\"dataframe\">\n  <thead>\n    <tr style=\"text-align: right;\">\n      <th></th>\n      <th>ano</th>\n      <th>volume_casos</th>\n    </tr>\n  </thead>\n  <tbody>\n    <tr>\n      <th>0</th>\n      <td>2024.0</td>\n      <td>28061</td>\n    </tr>\n    <tr>\n      <th>1</th>\n      <td>2023.0</td>\n      <td>34374</td>\n    </tr>\n    <tr>\n      <th>2</th>\n      <td>2022.0</td>\n      <td>56759</td>\n    </tr>\n    <tr>\n      <th>3</th>\n      <td>2021.0</td>\n      <td>160383</td>\n    </tr>\n    <tr>\n      <th>4</th>\n      <td>2020.0</td>\n      <td>192</td>\n    </tr>\n    <tr>\n      <th>5</th>\n      <td>2019.0</td>\n      <td>73</td>\n    </tr>\n    <tr>\n      <th>6</th>\n      <td>2018.0</td>\n      <td>10</td>\n    </tr>\n    <tr>\n      <th>7</th>\n      <td>2017.0</td>\n      <td>3</td>\n    </tr>\n    <tr>\n      <th>8</th>\n      <td>2016.0</td>\n      <td>1</td>\n    </tr>\n    <tr>\n      <th>9</th>\n      <td>2015.0</td>\n      <td>1</td>\n    </tr>\n    <tr>\n      <th>10</th>\n      <td>2014.0</td>\n      <td>1</td>\n    </tr>\n    <tr>\n      <th>11</th>\n      <td>2012.0</td>\n      <td>5</td>\n    </tr>\n    <tr>\n      <th>12</th>\n      <td>2011.0</td>\n      <td>1</td>\n    </tr>\n    <tr>\n      <th>13</th>\n      <td>2010.0</td>\n      <td>2</td>\n    </tr>\n    <tr>\n      <th>14</th>\n      <td>2007.0</td>\n      <td>1</td>\n    </tr>\n    <tr>\n      <th>15</th>\n      <td>2005.0</td>\n      <td>2</td>\n    </tr>\n    <tr>\n      <th>16</th>\n      <td>2003.0</td>\n      <td>1</td>\n    </tr>\n    <tr>\n      <th>17</th>\n      <td>2002.0</td>\n      <td>2</td>\n    </tr>\n    <tr>\n      <th>18</th>\n      <td>2001.0</td>\n      <td>5</td>\n    </tr>\n    <tr>\n      <th>19</th>\n      <td>2000.0</td>\n      <td>3</td>\n    </tr>\n    <tr>\n      <th>20</th>\n      <td>1995.0</td>\n      <td>1</td>\n    </tr>\n    <tr>\n      <th>21</th>\n      <td>1994.0</td>\n      <td>1</td>\n    </tr>\n    <tr>\n      <th>22</th>\n      <td>1992.0</td>\n      <td>1</td>\n    </tr>\n    <tr>\n      <th>23</th>\n      <td>1990.0</td>\n      <td>1</td>\n    </tr>\n    <tr>\n      <th>24</th>\n      <td>1989.0</td>\n      <td>1</td>\n    </tr>\n    <tr>\n      <th>25</th>\n      <td>1984.0</td>\n      <td>3</td>\n    </tr>\n    <tr>\n      <th>26</th>\n      <td>1983.0</td>\n      <td>1</td>\n    </tr>\n    <tr>\n      <th>27</th>\n      <td>1982.0</td>\n      <td>1</td>\n    </tr>\n    <tr>\n      <th>28</th>\n      <td>1979.0</td>\n      <td>3</td>\n    </tr>\n    <tr>\n      <th>29</th>\n      <td>1978.0</td>\n      <td>1</td>\n    </tr>\n    <tr>\n      <th>30</th>\n      <td>1977.0</td>\n      <td>2</td>\n    </tr>\n    <tr>\n      <th>31</th>\n      <td>1974.0</td>\n      <td>1</td>\n    </tr>\n    <tr>\n      <th>32</th>\n      <td>1971.0</td>\n      <td>2</td>\n    </tr>\n    <tr>\n      <th>33</th>\n      <td>1966.0</td>\n      <td>2</td>\n    </tr>\n    <tr>\n      <th>34</th>\n      <td>1965.0</td>\n      <td>1</td>\n    </tr>\n    <tr>\n      <th>35</th>\n      <td>1958.0</td>\n      <td>1</td>\n    </tr>\n    <tr>\n      <th>36</th>\n      <td>1957.0</td>\n      <td>1</td>\n    </tr>\n    <tr>\n      <th>37</th>\n      <td>1956.0</td>\n      <td>1</td>\n    </tr>\n    <tr>\n      <th>38</th>\n      <td>1950.0</td>\n      <td>1</td>\n    </tr>\n    <tr>\n      <th>39</th>\n      <td>1943.0</td>\n      <td>1</td>\n    </tr>\n    <tr>\n      <th>40</th>\n      <td>1935.0</td>\n      <td>1</td>\n    </tr>\n    <tr>\n      <th>41</th>\n      <td>1921.0</td>\n      <td>11</td>\n    </tr>\n    <tr>\n      <th>42</th>\n      <td>NaN</td>\n      <td>2</td>\n    </tr>\n  </tbody>\n</table>\n</div>",
       "datasetInfos": [],
       "metadata": {},
       "removedWidgets": [],
       "textData": null,
       "type": "htmlSandbox"
      }
     },
     "output_type": "display_data"
    }
   ],
   "source": [
    "\n",
    "# Converte a coluna 'dt_notificacao' para o tipo DATE usando o formato 'ddMMyyyy'\n",
    "evento_df = evento_df.withColumn('dt_notificacao_date', to_date(col('dt_notificacao'), 'ddMMyyyy'))\n",
    "\n",
    "volume_anual_df = evento_df.select(\n",
    "    year(col('dt_notificacao_date')).alias('ano'),\n",
    "    col('nu_notificacao')\n",
    ").groupBy('ano').count().withColumnRenamed('count', 'volume_casos')\n",
    "\n",
    "# Exibir os resultados\n",
    "volume_anual_df.orderBy(col('ano').desc()).toPandas()\n"
   ]
  },
  {
   "cell_type": "code",
   "execution_count": 0,
   "metadata": {
    "application/vnd.databricks.v1+cell": {
     "cellMetadata": {
      "byteLimit": 2048000,
      "rowLimit": 10000
     },
     "inputWidgets": {},
     "nuid": "325b458a-4a3a-48aa-a43f-caad26ab0d8a",
     "showTitle": false,
     "tableResultSettingsMap": {},
     "title": ""
    }
   },
   "outputs": [
    {
     "output_type": "display_data",
     "data": {
      "text/html": [
       "<div>\n",
       "<style scoped>\n",
       "    .dataframe tbody tr th:only-of-type {\n",
       "        vertical-align: middle;\n",
       "    }\n",
       "\n",
       "    .dataframe tbody tr th {\n",
       "        vertical-align: top;\n",
       "    }\n",
       "\n",
       "    .dataframe thead th {\n",
       "        text-align: right;\n",
       "    }\n",
       "</style>\n",
       "<table border=\"1\" class=\"dataframe\">\n",
       "  <thead>\n",
       "    <tr style=\"text-align: right;\">\n",
       "      <th></th>\n",
       "      <th>ano</th>\n",
       "      <th>grave</th>\n",
       "      <th>nao grave</th>\n",
       "    </tr>\n",
       "  </thead>\n",
       "  <tbody>\n",
       "    <tr>\n",
       "      <th>0</th>\n",
       "      <td>2024</td>\n",
       "      <td>1431</td>\n",
       "      <td>26630</td>\n",
       "    </tr>\n",
       "    <tr>\n",
       "      <th>1</th>\n",
       "      <td>2023</td>\n",
       "      <td>2305</td>\n",
       "      <td>32069</td>\n",
       "    </tr>\n",
       "    <tr>\n",
       "      <th>2</th>\n",
       "      <td>2022</td>\n",
       "      <td>3173</td>\n",
       "      <td>53586</td>\n",
       "    </tr>\n",
       "    <tr>\n",
       "      <th>3</th>\n",
       "      <td>2021</td>\n",
       "      <td>9928</td>\n",
       "      <td>150455</td>\n",
       "    </tr>\n",
       "  </tbody>\n",
       "</table>\n",
       "</div>"
      ]
     },
     "metadata": {
      "application/vnd.databricks.v1+output": {
       "addedWidgets": {},
       "arguments": {},
       "data": "<div>\n<style scoped>\n    .dataframe tbody tr th:only-of-type {\n        vertical-align: middle;\n    }\n\n    .dataframe tbody tr th {\n        vertical-align: top;\n    }\n\n    .dataframe thead th {\n        text-align: right;\n    }\n</style>\n<table border=\"1\" class=\"dataframe\">\n  <thead>\n    <tr style=\"text-align: right;\">\n      <th></th>\n      <th>ano</th>\n      <th>grave</th>\n      <th>nao grave</th>\n    </tr>\n  </thead>\n  <tbody>\n    <tr>\n      <th>0</th>\n      <td>2024</td>\n      <td>1431</td>\n      <td>26630</td>\n    </tr>\n    <tr>\n      <th>1</th>\n      <td>2023</td>\n      <td>2305</td>\n      <td>32069</td>\n    </tr>\n    <tr>\n      <th>2</th>\n      <td>2022</td>\n      <td>3173</td>\n      <td>53586</td>\n    </tr>\n    <tr>\n      <th>3</th>\n      <td>2021</td>\n      <td>9928</td>\n      <td>150455</td>\n    </tr>\n  </tbody>\n</table>\n</div>",
       "datasetInfos": [],
       "metadata": {},
       "removedWidgets": [],
       "textData": null,
       "type": "htmlSandbox"
      }
     },
     "output_type": "display_data"
    }
   ],
   "source": [
    "# Converte 'dt_notificacao' para tipo DATE\n",
    "evento_df = evento_df.withColumn(\n",
    "    'dt_notificacao_date',\n",
    "    to_date(col('dt_notificacao'), 'ddMMyyyy')\n",
    ")\n",
    "\n",
    "# Extrai o ano\n",
    "evento_df = evento_df.withColumn('ano', year(col('dt_notificacao_date')))\n",
    "\n",
    "# Cria coluna categórica baseada em 'ds_encerramento_grave'\n",
    "evento_df = evento_df.withColumn(\n",
    "    'condicao_grave',\n",
    "    when(col('ds_encerramento_grave').rlike(\"(?i)sim\"), 'grave').otherwise('nao grave')\n",
    ")\n",
    "\n",
    "# Filtra os anos de interesse\n",
    "evento_filtrado = evento_df.filter((col('ano') >= 2021) & (col('ano') <= 2024))\n",
    "\n",
    "# Pivotando com a nova coluna\n",
    "volume_pivotado = evento_filtrado.groupBy('ano') \\\n",
    "    .pivot('condicao_grave') \\\n",
    "    .agg(count('nu_notificacao')) \\\n",
    "    .orderBy(col('ano').desc())\n",
    "\n",
    "# Exibe como tabela\n",
    "volume_pivotado.toPandas()\n"
   ]
  },
  {
   "cell_type": "code",
   "execution_count": 0,
   "metadata": {
    "application/vnd.databricks.v1+cell": {
     "cellMetadata": {
      "byteLimit": 2048000,
      "rowLimit": 10000
     },
     "inputWidgets": {},
     "nuid": "67d85726-dcde-4a83-be96-325a9d6ab122",
     "showTitle": false,
     "tableResultSettingsMap": {},
     "title": ""
    }
   },
   "outputs": [
    {
     "output_type": "stream",
     "name": "stderr",
     "output_type": "stream",
     "text": [
      "/databricks/spark/python/pyspark/sql/pandas/utils.py:124: UserWarning: The conversion of DecimalType columns is inefficient and may take a long time. Column names: [percentual_grave] If those columns are not necessary, you may consider dropping them or converting to primitive types before the conversion.\n  warnings.warn(\n"
     ]
    },
    {
     "output_type": "display_data",
     "data": {
      "text/html": [
       "<div>\n",
       "<style scoped>\n",
       "    .dataframe tbody tr th:only-of-type {\n",
       "        vertical-align: middle;\n",
       "    }\n",
       "\n",
       "    .dataframe tbody tr th {\n",
       "        vertical-align: top;\n",
       "    }\n",
       "\n",
       "    .dataframe thead th {\n",
       "        text-align: right;\n",
       "    }\n",
       "</style>\n",
       "<table border=\"1\" class=\"dataframe\">\n",
       "  <thead>\n",
       "    <tr style=\"text-align: right;\">\n",
       "      <th></th>\n",
       "      <th>ano</th>\n",
       "      <th>grave</th>\n",
       "      <th>nao grave</th>\n",
       "      <th>percentual_grave</th>\n",
       "    </tr>\n",
       "  </thead>\n",
       "  <tbody>\n",
       "    <tr>\n",
       "      <th>0</th>\n",
       "      <td>2024</td>\n",
       "      <td>1431</td>\n",
       "      <td>26630</td>\n",
       "      <td>5.09960443319910</td>\n",
       "    </tr>\n",
       "    <tr>\n",
       "      <th>1</th>\n",
       "      <td>2023</td>\n",
       "      <td>2305</td>\n",
       "      <td>32069</td>\n",
       "      <td>6.70564961889800</td>\n",
       "    </tr>\n",
       "    <tr>\n",
       "      <th>2</th>\n",
       "      <td>2022</td>\n",
       "      <td>3173</td>\n",
       "      <td>53586</td>\n",
       "      <td>5.59030285945841</td>\n",
       "    </tr>\n",
       "    <tr>\n",
       "      <th>3</th>\n",
       "      <td>2021</td>\n",
       "      <td>9928</td>\n",
       "      <td>150455</td>\n",
       "      <td>6.19018225123610</td>\n",
       "    </tr>\n",
       "  </tbody>\n",
       "</table>\n",
       "</div>"
      ]
     },
     "metadata": {
      "application/vnd.databricks.v1+output": {
       "addedWidgets": {},
       "arguments": {},
       "data": "<div>\n<style scoped>\n    .dataframe tbody tr th:only-of-type {\n        vertical-align: middle;\n    }\n\n    .dataframe tbody tr th {\n        vertical-align: top;\n    }\n\n    .dataframe thead th {\n        text-align: right;\n    }\n</style>\n<table border=\"1\" class=\"dataframe\">\n  <thead>\n    <tr style=\"text-align: right;\">\n      <th></th>\n      <th>ano</th>\n      <th>grave</th>\n      <th>nao grave</th>\n      <th>percentual_grave</th>\n    </tr>\n  </thead>\n  <tbody>\n    <tr>\n      <th>0</th>\n      <td>2024</td>\n      <td>1431</td>\n      <td>26630</td>\n      <td>5.09960443319910</td>\n    </tr>\n    <tr>\n      <th>1</th>\n      <td>2023</td>\n      <td>2305</td>\n      <td>32069</td>\n      <td>6.70564961889800</td>\n    </tr>\n    <tr>\n      <th>2</th>\n      <td>2022</td>\n      <td>3173</td>\n      <td>53586</td>\n      <td>5.59030285945841</td>\n    </tr>\n    <tr>\n      <th>3</th>\n      <td>2021</td>\n      <td>9928</td>\n      <td>150455</td>\n      <td>6.19018225123610</td>\n    </tr>\n  </tbody>\n</table>\n</div>",
       "datasetInfos": [],
       "metadata": {},
       "removedWidgets": [],
       "textData": null,
       "type": "htmlSandbox"
      }
     },
     "output_type": "display_data"
    }
   ],
   "source": [
    "\n",
    "volume_percentual = volume_pivotado.withColumn(\n",
    "    \"percentual_grave\",\n",
    "    expr(\"grave * 100.0 / (grave + `nao grave`)\")\n",
    ")\n",
    "volume_percentual.toPandas()\n"
   ]
  },
  {
   "cell_type": "markdown",
   "metadata": {
    "application/vnd.databricks.v1+cell": {
     "cellMetadata": {
      "byteLimit": 2048000,
      "rowLimit": 10000
     },
     "inputWidgets": {},
     "nuid": "cb5155ac-87b7-4afa-8c5f-0ea4e78b450b",
     "showTitle": false,
     "tableResultSettingsMap": {},
     "title": ""
    }
   },
   "source": [
    "Como podemos observar acima a maior parte dos eventos adversos registrados nesses anos não eram graves."
   ]
  },
  {
   "cell_type": "code",
   "execution_count": 0,
   "metadata": {
    "application/vnd.databricks.v1+cell": {
     "cellMetadata": {
      "byteLimit": 2048000,
      "rowLimit": 10000
     },
     "inputWidgets": {},
     "nuid": "794ed9a3-89c4-4175-8728-f5290afb8f87",
     "showTitle": false,
     "tableResultSettingsMap": {},
     "title": ""
    }
   },
   "outputs": [
    {
     "output_type": "display_data",
     "data": {
      "text/html": [
       "<div>\n",
       "<style scoped>\n",
       "    .dataframe tbody tr th:only-of-type {\n",
       "        vertical-align: middle;\n",
       "    }\n",
       "\n",
       "    .dataframe tbody tr th {\n",
       "        vertical-align: top;\n",
       "    }\n",
       "\n",
       "    .dataframe thead th {\n",
       "        text-align: right;\n",
       "    }\n",
       "</style>\n",
       "<table border=\"1\" class=\"dataframe\">\n",
       "  <thead>\n",
       "    <tr style=\"text-align: right;\">\n",
       "      <th></th>\n",
       "      <th>ano</th>\n",
       "      <th>null</th>\n",
       "      <th>Contra indicacao com substituicao do esquema</th>\n",
       "      <th>Contra indicacao com substituicao do esquema  Contra indicacao com substituicao do esquema</th>\n",
       "      <th>Contra indicacao com substituicao do esquema  Esquema Mantido</th>\n",
       "      <th>Contra indicacao com substituicao do esquema  Esquema encerrado</th>\n",
       "      <th>Contra indicacao com substituicao do esquema  Esquema encerrado  Esquema encerrado  Esquema Mantido  Esquema Mantido</th>\n",
       "      <th>Contra indicacao com substituicao do esquema  Esquema mantido com precaucao</th>\n",
       "      <th>Contra indicacao com substituicao do esquema  Esquema mantido com precaucao   Esquema Mantido</th>\n",
       "      <th>Contra indicacao com substituicao do esquema  Esquema mantido com precaucao   Esquema mantido com precaucao</th>\n",
       "      <th>...</th>\n",
       "      <th>Esquema mantido com precaucao   Esquema mantido com precaucao</th>\n",
       "      <th>Ignorado</th>\n",
       "      <th>Outros</th>\n",
       "      <th>Outros  Dose considerada invalida Outros especificar</th>\n",
       "      <th>Outros  Dose considerada valida</th>\n",
       "      <th>Outros  Esquema Mantido</th>\n",
       "      <th>Outros  Esquema Mantido  Esquema Mantido</th>\n",
       "      <th>Outros  Esquema encerrado</th>\n",
       "      <th>Outros  Outros</th>\n",
       "      <th>Suspensao da vacina por 10 anos</th>\n",
       "    </tr>\n",
       "  </thead>\n",
       "  <tbody>\n",
       "    <tr>\n",
       "      <th>0</th>\n",
       "      <td>2024</td>\n",
       "      <td>28061</td>\n",
       "      <td>NaN</td>\n",
       "      <td>NaN</td>\n",
       "      <td>NaN</td>\n",
       "      <td>NaN</td>\n",
       "      <td>NaN</td>\n",
       "      <td>NaN</td>\n",
       "      <td>NaN</td>\n",
       "      <td>NaN</td>\n",
       "      <td>...</td>\n",
       "      <td>NaN</td>\n",
       "      <td>NaN</td>\n",
       "      <td>NaN</td>\n",
       "      <td>NaN</td>\n",
       "      <td>NaN</td>\n",
       "      <td>NaN</td>\n",
       "      <td>NaN</td>\n",
       "      <td>NaN</td>\n",
       "      <td>NaN</td>\n",
       "      <td>NaN</td>\n",
       "    </tr>\n",
       "    <tr>\n",
       "      <th>1</th>\n",
       "      <td>2023</td>\n",
       "      <td>34374</td>\n",
       "      <td>NaN</td>\n",
       "      <td>NaN</td>\n",
       "      <td>NaN</td>\n",
       "      <td>NaN</td>\n",
       "      <td>NaN</td>\n",
       "      <td>NaN</td>\n",
       "      <td>NaN</td>\n",
       "      <td>NaN</td>\n",
       "      <td>...</td>\n",
       "      <td>NaN</td>\n",
       "      <td>NaN</td>\n",
       "      <td>NaN</td>\n",
       "      <td>NaN</td>\n",
       "      <td>NaN</td>\n",
       "      <td>NaN</td>\n",
       "      <td>NaN</td>\n",
       "      <td>NaN</td>\n",
       "      <td>NaN</td>\n",
       "      <td>NaN</td>\n",
       "    </tr>\n",
       "    <tr>\n",
       "      <th>2</th>\n",
       "      <td>2022</td>\n",
       "      <td>56759</td>\n",
       "      <td>NaN</td>\n",
       "      <td>NaN</td>\n",
       "      <td>NaN</td>\n",
       "      <td>NaN</td>\n",
       "      <td>NaN</td>\n",
       "      <td>NaN</td>\n",
       "      <td>NaN</td>\n",
       "      <td>NaN</td>\n",
       "      <td>...</td>\n",
       "      <td>NaN</td>\n",
       "      <td>NaN</td>\n",
       "      <td>NaN</td>\n",
       "      <td>NaN</td>\n",
       "      <td>NaN</td>\n",
       "      <td>NaN</td>\n",
       "      <td>NaN</td>\n",
       "      <td>NaN</td>\n",
       "      <td>NaN</td>\n",
       "      <td>NaN</td>\n",
       "    </tr>\n",
       "    <tr>\n",
       "      <th>3</th>\n",
       "      <td>2021</td>\n",
       "      <td>130207</td>\n",
       "      <td>45.0</td>\n",
       "      <td>1.0</td>\n",
       "      <td>5.0</td>\n",
       "      <td>3.0</td>\n",
       "      <td>1.0</td>\n",
       "      <td>2.0</td>\n",
       "      <td>1.0</td>\n",
       "      <td>1.0</td>\n",
       "      <td>...</td>\n",
       "      <td>22.0</td>\n",
       "      <td>346.0</td>\n",
       "      <td>859.0</td>\n",
       "      <td>1.0</td>\n",
       "      <td>5.0</td>\n",
       "      <td>4.0</td>\n",
       "      <td>1.0</td>\n",
       "      <td>5.0</td>\n",
       "      <td>13.0</td>\n",
       "      <td>1.0</td>\n",
       "    </tr>\n",
       "  </tbody>\n",
       "</table>\n",
       "<p>4 rows × 84 columns</p>\n",
       "</div>"
      ]
     },
     "metadata": {
      "application/vnd.databricks.v1+output": {
       "addedWidgets": {},
       "arguments": {},
       "data": "<div>\n<style scoped>\n    .dataframe tbody tr th:only-of-type {\n        vertical-align: middle;\n    }\n\n    .dataframe tbody tr th {\n        vertical-align: top;\n    }\n\n    .dataframe thead th {\n        text-align: right;\n    }\n</style>\n<table border=\"1\" class=\"dataframe\">\n  <thead>\n    <tr style=\"text-align: right;\">\n      <th></th>\n      <th>ano</th>\n      <th>null</th>\n      <th>Contra indicacao com substituicao do esquema</th>\n      <th>Contra indicacao com substituicao do esquema  Contra indicacao com substituicao do esquema</th>\n      <th>Contra indicacao com substituicao do esquema  Esquema Mantido</th>\n      <th>Contra indicacao com substituicao do esquema  Esquema encerrado</th>\n      <th>Contra indicacao com substituicao do esquema  Esquema encerrado  Esquema encerrado  Esquema Mantido  Esquema Mantido</th>\n      <th>Contra indicacao com substituicao do esquema  Esquema mantido com precaucao</th>\n      <th>Contra indicacao com substituicao do esquema  Esquema mantido com precaucao   Esquema Mantido</th>\n      <th>Contra indicacao com substituicao do esquema  Esquema mantido com precaucao   Esquema mantido com precaucao</th>\n      <th>...</th>\n      <th>Esquema mantido com precaucao   Esquema mantido com precaucao</th>\n      <th>Ignorado</th>\n      <th>Outros</th>\n      <th>Outros  Dose considerada invalida Outros especificar</th>\n      <th>Outros  Dose considerada valida</th>\n      <th>Outros  Esquema Mantido</th>\n      <th>Outros  Esquema Mantido  Esquema Mantido</th>\n      <th>Outros  Esquema encerrado</th>\n      <th>Outros  Outros</th>\n      <th>Suspensao da vacina por 10 anos</th>\n    </tr>\n  </thead>\n  <tbody>\n    <tr>\n      <th>0</th>\n      <td>2024</td>\n      <td>28061</td>\n      <td>NaN</td>\n      <td>NaN</td>\n      <td>NaN</td>\n      <td>NaN</td>\n      <td>NaN</td>\n      <td>NaN</td>\n      <td>NaN</td>\n      <td>NaN</td>\n      <td>...</td>\n      <td>NaN</td>\n      <td>NaN</td>\n      <td>NaN</td>\n      <td>NaN</td>\n      <td>NaN</td>\n      <td>NaN</td>\n      <td>NaN</td>\n      <td>NaN</td>\n      <td>NaN</td>\n      <td>NaN</td>\n    </tr>\n    <tr>\n      <th>1</th>\n      <td>2023</td>\n      <td>34374</td>\n      <td>NaN</td>\n      <td>NaN</td>\n      <td>NaN</td>\n      <td>NaN</td>\n      <td>NaN</td>\n      <td>NaN</td>\n      <td>NaN</td>\n      <td>NaN</td>\n      <td>...</td>\n      <td>NaN</td>\n      <td>NaN</td>\n      <td>NaN</td>\n      <td>NaN</td>\n      <td>NaN</td>\n      <td>NaN</td>\n      <td>NaN</td>\n      <td>NaN</td>\n      <td>NaN</td>\n      <td>NaN</td>\n    </tr>\n    <tr>\n      <th>2</th>\n      <td>2022</td>\n      <td>56759</td>\n      <td>NaN</td>\n      <td>NaN</td>\n      <td>NaN</td>\n      <td>NaN</td>\n      <td>NaN</td>\n      <td>NaN</td>\n      <td>NaN</td>\n      <td>NaN</td>\n      <td>...</td>\n      <td>NaN</td>\n      <td>NaN</td>\n      <td>NaN</td>\n      <td>NaN</td>\n      <td>NaN</td>\n      <td>NaN</td>\n      <td>NaN</td>\n      <td>NaN</td>\n      <td>NaN</td>\n      <td>NaN</td>\n    </tr>\n    <tr>\n      <th>3</th>\n      <td>2021</td>\n      <td>130207</td>\n      <td>45.0</td>\n      <td>1.0</td>\n      <td>5.0</td>\n      <td>3.0</td>\n      <td>1.0</td>\n      <td>2.0</td>\n      <td>1.0</td>\n      <td>1.0</td>\n      <td>...</td>\n      <td>22.0</td>\n      <td>346.0</td>\n      <td>859.0</td>\n      <td>1.0</td>\n      <td>5.0</td>\n      <td>4.0</td>\n      <td>1.0</td>\n      <td>5.0</td>\n      <td>13.0</td>\n      <td>1.0</td>\n    </tr>\n  </tbody>\n</table>\n<p>4 rows × 84 columns</p>\n</div>",
       "datasetInfos": [],
       "metadata": {},
       "removedWidgets": [],
       "textData": null,
       "type": "htmlSandbox"
      }
     },
     "output_type": "display_data"
    }
   ],
   "source": [
    "# Converte a coluna 'dt_notificacao' de string para date\n",
    "evento_df = evento_df.withColumn(\n",
    "    'dt_notificacao_date',\n",
    "    to_date(col('dt_notificacao'), 'ddMMyyyy')\n",
    ")\n",
    "\n",
    "# Cria coluna de ano\n",
    "evento_df = evento_df.withColumn('ano', year(col('dt_notificacao_date')))\n",
    "\n",
    "# Filtra apenas os anos desejados (de 2021 a 2024)\n",
    "evento_filtrado = evento_df.filter((col('ano') >= 2021) & (col('ano') <= 2024))\n",
    "\n",
    "# Pivotando os dados: colunas = valores únicos de ds_conduta, linhas = anos\n",
    "volume_pivotado = evento_filtrado.groupBy('ano') \\\n",
    "    .pivot('ds_conduta') \\\n",
    "    .agg(count('nu_notificacao')) \\\n",
    "    .orderBy(col('ano').desc())\n",
    "\n",
    "# Converte para Pandas para exibir como tabela\n",
    "volume_pivotado.toPandas()\n"
   ]
  },
  {
   "cell_type": "markdown",
   "metadata": {
    "application/vnd.databricks.v1+cell": {
     "cellMetadata": {
      "byteLimit": 2048000,
      "rowLimit": 10000
     },
     "inputWidgets": {},
     "nuid": "36eaf549-1335-4d46-8366-d2ec360e3cc1",
     "showTitle": false,
     "tableResultSettingsMap": {},
     "title": ""
    }
   },
   "source": [
    "Ao abrir em relação a conduta a grande maioria não teve contra-indicação do esquema vacinal"
   ]
  },
  {
   "cell_type": "markdown",
   "metadata": {
    "application/vnd.databricks.v1+cell": {
     "cellMetadata": {
      "byteLimit": 2048000,
      "rowLimit": 10000
     },
     "inputWidgets": {},
     "nuid": "17a7ce9b-fdfe-4cd4-b41c-e88cae49a125",
     "showTitle": false,
     "tableResultSettingsMap": {},
     "title": ""
    }
   },
   "source": []
  },
  {
   "cell_type": "markdown",
   "metadata": {
    "application/vnd.databricks.v1+cell": {
     "cellMetadata": {
      "byteLimit": 2048000,
      "rowLimit": 10000
     },
     "inputWidgets": {},
     "nuid": "6fbe1f77-78df-4211-aecb-e318579ed171",
     "showTitle": false,
     "tableResultSettingsMap": {},
     "title": ""
    }
   },
   "source": [
    "## Conclusão\n",
    "\n",
    "Acredito que os pre-requisitos para o projeto foram satisfeitos. Devido ao tempo não foi possível explorar mais a fundo os dados e responder mais questões. \n",
    "\n",
    "Analisando os dados que obtivemos até o momento foi possível observar que a maior parte dos eventos adversos foram registrados no período posterior a pandemia de covid-19. No ano de 2021 foi o momento de maior pico de registros, o que potencialmente está relacionado ao fato de que a vacinação foi uma medida emergencial para a contenção da pandemia. O que aumentou também a vigilância em cima desses potenciais eventos. A grande maior dos eventos não foram graves, bem como não guiaram a uma recomendação de suspensão do esquema vacinal.\n",
    "\n",
    "Podemos observar que o volume de eventos adversos antes desse período é praticamente irrisório. O que reforça a segurança das vacinas no nosso país. Adicionalmente, conseguimos observar que desde 2021 há uma tendência consideravel de queda do volume de eventos adversos.\n"
   ]
  },
  {
   "cell_type": "code",
   "execution_count": 0,
   "metadata": {
    "application/vnd.databricks.v1+cell": {
     "cellMetadata": {
      "byteLimit": 2048000,
      "rowLimit": 10000
     },
     "inputWidgets": {},
     "nuid": "cdc2cc0f-48bf-4470-9575-f83b89275cdf",
     "showTitle": false,
     "tableResultSettingsMap": {},
     "title": ""
    }
   },
   "outputs": [],
   "source": []
  }
 ],
 "metadata": {
  "application/vnd.databricks.v1+notebook": {
   "computePreferences": null,
   "dashboards": [],
   "environmentMetadata": {
    "base_environment": "",
    "environment_version": "1"
   },
   "inputWidgetPreferences": null,
   "language": "python",
   "notebookMetadata": {
    "mostRecentlyExecutedCommandWithImplicitDF": {
     "commandId": 2052819998360928,
     "dataframes": [
      "_sqldf"
     ]
    },
    "pythonIndentUnit": 4
   },
   "notebookName": "MVP Engenharia de Dados - PUC",
   "widgets": {}
  }
 },
 "nbformat": 4,
 "nbformat_minor": 0
}