{
 "cells": [
  {
   "cell_type": "markdown",
   "id": "08222583",
   "metadata": {},
   "source": [
    "# Google Drive no Databricks\n",
    "\n",
    "Esse notebook é um auxiliar para conseguir montar o google drive no Databricks"
   ]
  },
  {
   "cell_type": "code",
   "execution_count": null,
   "id": "225447ac",
   "metadata": {},
   "outputs": [],
   "source": [
    "#!pip install pydrive --quiet"
   ]
  },
  {
   "cell_type": "code",
   "execution_count": 1,
   "id": "775ea6b1",
   "metadata": {},
   "outputs": [],
   "source": [
    "import pydrive"
   ]
  },
  {
   "cell_type": "code",
   "execution_count": 2,
   "id": "157f6e22",
   "metadata": {},
   "outputs": [],
   "source": [
    "# auth_drive.py\n",
    "from pydrive.auth import GoogleAuth\n",
    "from pydrive.drive import GoogleDrive"
   ]
  },
  {
   "cell_type": "code",
   "execution_count": 7,
   "id": "62346af8",
   "metadata": {},
   "outputs": [
    {
     "name": "stdout",
     "output_type": "stream",
     "text": [
      "Your browser has been opened to visit:\n",
      "\n",
      "    https://accounts.google.com/o/oauth2/auth?client_id=118438169306-2tt55smdn05qaglbnklrcqf1vffvqvq5.apps.googleusercontent.com&redirect_uri=http%3A%2F%2Flocalhost%3A8080%2F&scope=https%3A%2F%2Fwww.googleapis.com%2Fauth%2Fdrive&access_type=offline&response_type=code\n",
      "\n",
      "Authentication successful.\n"
     ]
    }
   ],
   "source": [
    "# Autenticação\n",
    "gauth = GoogleAuth()\n",
    "gauth.LocalWebserverAuth()  # Abre o navegador para login com sua conta Google\n",
    "\n",
    "\n",
    "# Salva token para reutilizar\n",
    "gauth.SaveCredentialsFile(\"token.json\")"
   ]
  },
  {
   "cell_type": "code",
   "execution_count": null,
   "id": "41e2c621",
   "metadata": {},
   "outputs": [],
   "source": []
  }
 ],
 "metadata": {
  "kernelspec": {
   "display_name": "Python 3 (ipykernel)",
   "language": "python",
   "name": "python3"
  },
  "language_info": {
   "codemirror_mode": {
    "name": "ipython",
    "version": 3
   },
   "file_extension": ".py",
   "mimetype": "text/x-python",
   "name": "python",
   "nbconvert_exporter": "python",
   "pygments_lexer": "ipython3",
   "version": "3.11.5"
  }
 },
 "nbformat": 4,
 "nbformat_minor": 5
}
